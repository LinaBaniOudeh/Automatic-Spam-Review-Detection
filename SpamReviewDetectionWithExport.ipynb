{
  "nbformat": 4,
  "nbformat_minor": 0,
  "metadata": {
    "colab": {
      "name": "SpamReviewDetection1.ipynb",
      "provenance": [],
      "collapsed_sections": [],
      "toc_visible": true,
      "authorship_tag": "ABX9TyOQlcHUakyj/HZi0gX82Rac",
      "include_colab_link": true
    },
    "kernelspec": {
      "display_name": "Python 3",
      "name": "python3"
    }
  },
  "cells": [
    {
      "cell_type": "markdown",
      "metadata": {
        "id": "view-in-github",
        "colab_type": "text"
      },
      "source": [
        "<a href=\"https://colab.research.google.com/github/RaghadQadah/Automatic-Spam-Review-Detection/blob/main/SpamReviewDetectionWithExport.ipynb\" target=\"_parent\"><img src=\"https://colab.research.google.com/assets/colab-badge.svg\" alt=\"Open In Colab\"/></a>"
      ]
    },
    {
      "cell_type": "markdown",
      "metadata": {
        "id": "pZBGTfpBBL_d"
      },
      "source": [
        "# **ENCS434 Artificial Intelligence Project 2**"
      ]
    },
    {
      "cell_type": "markdown",
      "metadata": {
        "id": "DA7LXRlZBL2G"
      },
      "source": [
        "### **Raghad Qadah 1170142**\r\n",
        "\r\n",
        "### **Lina Bani Oudeh 1172351**\r\n",
        "\r\n",
        "### **Shaima Zaid 1170540**\r\n"
      ]
    },
    {
      "cell_type": "markdown",
      "metadata": {
        "id": "Jv9mLgiFBLk3"
      },
      "source": [
        ""
      ]
    },
    {
      "cell_type": "markdown",
      "metadata": {
        "id": "DaB5DBziAncF"
      },
      "source": [
        "ENCS434 Artificial Intelligence \r\n",
        "Programming Project 2 \r\n",
        "Instructor: Aziz Qaroush\r\n",
        "by:\r\n",
        "Raghad qadah 1170142\r\n",
        "lina bani Oudeh 1172351\r\n",
        "shaima zaid 1170540 "
      ]
    },
    {
      "cell_type": "code",
      "metadata": {
        "colab": {
          "base_uri": "https://localhost:8080/"
        },
        "id": "JdkS7Z5YSd6l",
        "outputId": "b7ddd660-a3b5-4703-dcbb-552c688df213"
      },
      "source": [
        "from google.colab import drive\r\n",
        "drive.mount('/content/drive')"
      ],
      "execution_count": 3,
      "outputs": [
        {
          "output_type": "stream",
          "text": [
            "Mounted at /content/drive\n"
          ],
          "name": "stdout"
        }
      ]
    },
    {
      "cell_type": "markdown",
      "metadata": {
        "id": "qml49FL-5vHN"
      },
      "source": [
        "## importing Library "
      ]
    },
    {
      "cell_type": "code",
      "metadata": {
        "colab": {
          "base_uri": "https://localhost:8080/"
        },
        "id": "LHSz-XMISmkZ",
        "outputId": "1901bc3e-af23-4b05-82dc-b70fdf861361"
      },
      "source": [
        "import numpy as np\r\n",
        "import matplotlib.pyplot as plt\r\n",
        "import pandas as pd\r\n",
        "import string\r\n",
        "import nltk\r\n",
        "nltk.download('stopwords')\r\n",
        "from nltk.corpus import stopwords\r\n",
        "stop = stopwords.words('english')\r\n",
        "from sklearn.metrics import classification_report, confusion_matrix,accuracy_score,precision_score,recall_score,f1_score"
      ],
      "execution_count": 4,
      "outputs": [
        {
          "output_type": "stream",
          "text": [
            "[nltk_data] Downloading package stopwords to /root/nltk_data...\n",
            "[nltk_data]   Unzipping corpora/stopwords.zip.\n"
          ],
          "name": "stdout"
        }
      ]
    },
    {
      "cell_type": "markdown",
      "metadata": {
        "id": "Z5iIihKV7YMr"
      },
      "source": [
        "# **functions to extract features from text**"
      ]
    },
    {
      "cell_type": "code",
      "metadata": {
        "id": "tovH2j-dS4BS"
      },
      "source": [
        "def clean(df, text, name):\r\n",
        "    df[name] = df[text].str.lower()\r\n",
        "    df[name] = df[name].str.replace('http\\S+|www.\\S+', '', case=False)\r\n",
        "    df[name] = df[name].str.replace('[^\\w\\s]', '')\r\n",
        "    df[name] = df[name].str.replace('\\d+', '')\r\n",
        "    df[name] = df[name].apply(lambda x: ' '.join([word for word in  str(x).split() if word not in (stop)]))\r\n",
        "    df[name] = df[name].apply(lambda x: \" \".join(x for x in  str(x).split() if len(x) > 3))\r\n",
        "    return df\r\n",
        "def word_count(df, text, name):\r\n",
        "    df[name] = df[text].apply(lambda x: len(str(x).split(\" \")))\r\n",
        "    return df\r\n",
        "\r\n",
        "def hashtags_count(df, text, name):\r\n",
        "    df[name] = df[text].apply(lambda x: len([x for x in  str(x).split() if x.startswith('#')]))\r\n",
        "    return df\r\n",
        "\r\n",
        "def user_mentions_count(df, text, name):\r\n",
        "    df[name] = df[text].apply(lambda x: len([x for x in  str(x).split() if x.startswith('@')]))\r\n",
        "    return df\r\n",
        "\r\n",
        "def numerics_count(df, text, name):\r\n",
        "    df[name] = df[text].apply(lambda x: len([x for x in  str(x).split() if x.isdigit()]))\r\n",
        "    return df\r\n",
        "\r\n",
        "def links_count(df, text, name):\r\n",
        "    df[name] = df[text].apply(\r\n",
        "        lambda x: len([x for x in  str(x).split() if x.startswith(('httP', 'HTTPS', 'https', 'www', 'WWW', 'HTTP', 'http')) ]))\r\n",
        "    return df"
      ],
      "execution_count": 5,
      "outputs": []
    },
    {
      "cell_type": "markdown",
      "metadata": {
        "id": "Y8tYrDrr7iBA"
      },
      "source": [
        "# **Read From CSV File** \r\n",
        "\r\n"
      ]
    },
    {
      "cell_type": "code",
      "metadata": {
        "colab": {
          "base_uri": "https://localhost:8080/",
          "height": 959
        },
        "id": "UHV6XVBLSna5",
        "outputId": "df45f2e0-8cb8-4841-9124-bc7e01bd2ce2"
      },
      "source": [
        "df = pd.read_csv(\"drive/My Drive/Output.csv\",encoding='latin1',low_memory=False)\r\n",
        "df=df[:40000]\r\n",
        "\r\n",
        "# clean review Content\r\n",
        "clean(df, \"reviewContent\", \"cleanContent\")"
      ],
      "execution_count": 6,
      "outputs": [
        {
          "output_type": "execute_result",
          "data": {
            "text/html": [
              "<div>\n",
              "<style scoped>\n",
              "    .dataframe tbody tr th:only-of-type {\n",
              "        vertical-align: middle;\n",
              "    }\n",
              "\n",
              "    .dataframe tbody tr th {\n",
              "        vertical-align: top;\n",
              "    }\n",
              "\n",
              "    .dataframe thead th {\n",
              "        text-align: right;\n",
              "    }\n",
              "</style>\n",
              "<table border=\"1\" class=\"dataframe\">\n",
              "  <thead>\n",
              "    <tr style=\"text-align: right;\">\n",
              "      <th></th>\n",
              "      <th>reviewID</th>\n",
              "      <th>reviewerID</th>\n",
              "      <th>reviewContent</th>\n",
              "      <th>rating</th>\n",
              "      <th>usefulCount</th>\n",
              "      <th>date</th>\n",
              "      <th>reviewerID.1</th>\n",
              "      <th>firstCount</th>\n",
              "      <th>reviewCount</th>\n",
              "      <th>Filtered</th>\n",
              "      <th>cleanContent</th>\n",
              "    </tr>\n",
              "  </thead>\n",
              "  <tbody>\n",
              "    <tr>\n",
              "      <th>0</th>\n",
              "      <td>---2eJpQ2HAnRQRp2v7XLA</td>\n",
              "      <td>-ORdirlxcallT7dzlZlW2A</td>\n",
              "      <td>I came to Chicago on business and was initiall...</td>\n",
              "      <td>5</td>\n",
              "      <td>5</td>\n",
              "      <td>9/28/2011</td>\n",
              "      <td>-ORdirlxcallT7dzlZlW2A</td>\n",
              "      <td>0.0</td>\n",
              "      <td>2.0</td>\n",
              "      <td>0.0</td>\n",
              "      <td>came chicago business initially supposed stay ...</td>\n",
              "    </tr>\n",
              "    <tr>\n",
              "      <th>1</th>\n",
              "      <td>--0gvJ0LlByoUsFi6x4eEQ</td>\n",
              "      <td>biZ0fIcZp7B-KBJ3EGcX7Q</td>\n",
              "      <td>I still love this place but the took Mu Shu of...</td>\n",
              "      <td>5</td>\n",
              "      <td>2</td>\n",
              "      <td>Update - 5/12/2009</td>\n",
              "      <td>biZ0fIcZp7B-KBJ3EGcX7Q</td>\n",
              "      <td>268.0</td>\n",
              "      <td>543.0</td>\n",
              "      <td>0.0</td>\n",
              "      <td>still love place took menu deeply saddened sho...</td>\n",
              "    </tr>\n",
              "    <tr>\n",
              "      <th>2</th>\n",
              "      <td>--1PwTt0AfyPG1pE7bB6Nw</td>\n",
              "      <td>pW9LvtC-hZ0PRAOUn7aZ2A</td>\n",
              "      <td>Alan is the best CPA that I know. He knows all...</td>\n",
              "      <td>5</td>\n",
              "      <td>0</td>\n",
              "      <td>8/15/2006</td>\n",
              "      <td>pW9LvtC-hZ0PRAOUn7aZ2A</td>\n",
              "      <td>834.0</td>\n",
              "      <td>1463.0</td>\n",
              "      <td>0.0</td>\n",
              "      <td>alan best know knows outs loop holes smart whi...</td>\n",
              "    </tr>\n",
              "    <tr>\n",
              "      <th>3</th>\n",
              "      <td>--87QVdPvgbDK3GeVxFRzg</td>\n",
              "      <td>92rtlWxS2aOngzkKhi-OxQ</td>\n",
              "      <td>My family has been using Korean Air for many m...</td>\n",
              "      <td>4</td>\n",
              "      <td>0</td>\n",
              "      <td>7/28/2012</td>\n",
              "      <td>92rtlWxS2aOngzkKhi-OxQ</td>\n",
              "      <td>43.0</td>\n",
              "      <td>158.0</td>\n",
              "      <td>0.0</td>\n",
              "      <td>family using korean many many years going asia...</td>\n",
              "    </tr>\n",
              "    <tr>\n",
              "      <th>4</th>\n",
              "      <td>--99ZJoVHP32iSd4i4nlZw</td>\n",
              "      <td>Egu4qSFR56EhGuTHZTaVjA</td>\n",
              "      <td>I hadn't been to Grisanti's since a pre-homeco...</td>\n",
              "      <td>3</td>\n",
              "      <td>0</td>\n",
              "      <td>1/28/2010</td>\n",
              "      <td>Egu4qSFR56EhGuTHZTaVjA</td>\n",
              "      <td>133.0</td>\n",
              "      <td>725.0</td>\n",
              "      <td>0.0</td>\n",
              "      <td>hadnt grisantis since prehomecoming dinner hig...</td>\n",
              "    </tr>\n",
              "    <tr>\n",
              "      <th>...</th>\n",
              "      <td>...</td>\n",
              "      <td>...</td>\n",
              "      <td>...</td>\n",
              "      <td>...</td>\n",
              "      <td>...</td>\n",
              "      <td>...</td>\n",
              "      <td>...</td>\n",
              "      <td>...</td>\n",
              "      <td>...</td>\n",
              "      <td>...</td>\n",
              "      <td>...</td>\n",
              "    </tr>\n",
              "    <tr>\n",
              "      <th>39995</th>\n",
              "      <td>fNlm6JHAHcSe-QROn7O6VQ</td>\n",
              "      <td>drzHAHTHFnThHW0R0rOdDQ</td>\n",
              "      <td>***Si Senor is now called Wapos*** Food is pre...</td>\n",
              "      <td>4</td>\n",
              "      <td>1</td>\n",
              "      <td>9/9/2012</td>\n",
              "      <td>drzHAHTHFnThHW0R0rOdDQ</td>\n",
              "      <td>24.0</td>\n",
              "      <td>405.0</td>\n",
              "      <td>0.0</td>\n",
              "      <td>senor called wapos food pretty good prices rig...</td>\n",
              "    </tr>\n",
              "    <tr>\n",
              "      <th>39996</th>\n",
              "      <td>FNLp_jD_sY0R-yzc7Lc0GA</td>\n",
              "      <td>0G-QF457q_0Z_jKqh6xWiA</td>\n",
              "      <td>I've resisted trying Italian restaurants in Ka...</td>\n",
              "      <td>3</td>\n",
              "      <td>8</td>\n",
              "      <td>12/22/2010</td>\n",
              "      <td>0G-QF457q_0Z_jKqh6xWiA</td>\n",
              "      <td>95.0</td>\n",
              "      <td>1010.0</td>\n",
              "      <td>0.0</td>\n",
              "      <td>resisted trying italian restaurants kansas cit...</td>\n",
              "    </tr>\n",
              "    <tr>\n",
              "      <th>39997</th>\n",
              "      <td>FnlT8PuD86KVZ4f3o6Hemg</td>\n",
              "      <td>Bx6Tz_TJDS7KB5jX123haA</td>\n",
              "      <td>Have only dined in once for lunch thought the ...</td>\n",
              "      <td>3</td>\n",
              "      <td>0</td>\n",
              "      <td>2/11/2012</td>\n",
              "      <td>Bx6Tz_TJDS7KB5jX123haA</td>\n",
              "      <td>13.0</td>\n",
              "      <td>177.0</td>\n",
              "      <td>0.0</td>\n",
              "      <td>dined lunch thought food wasnt wild reviewers ...</td>\n",
              "    </tr>\n",
              "    <tr>\n",
              "      <th>39998</th>\n",
              "      <td>fnl_AyDHUGFPRhLFGIRy8A</td>\n",
              "      <td>0Igx-a1wAstiBDerGxXk2A</td>\n",
              "      <td>So say you're trying to do an event on a budge...</td>\n",
              "      <td>4</td>\n",
              "      <td>4</td>\n",
              "      <td>1/18/2011</td>\n",
              "      <td>0Igx-a1wAstiBDerGxXk2A</td>\n",
              "      <td>302.0</td>\n",
              "      <td>917.0</td>\n",
              "      <td>0.0</td>\n",
              "      <td>youre trying event budget want purchase bulk f...</td>\n",
              "    </tr>\n",
              "    <tr>\n",
              "      <th>39999</th>\n",
              "      <td>FNM73j4hMWJVBoGbyV0zXg</td>\n",
              "      <td>OapLWhQI4_Gm32-nYbHmUA</td>\n",
              "      <td>What a lovely bijoux old fashioned toyshop! Th...</td>\n",
              "      <td>4</td>\n",
              "      <td>6</td>\n",
              "      <td>10/20/2009</td>\n",
              "      <td>OapLWhQI4_Gm32-nYbHmUA</td>\n",
              "      <td>754.0</td>\n",
              "      <td>1693.0</td>\n",
              "      <td>0.0</td>\n",
              "      <td>lovely bijoux fashioned toyshop independent sm...</td>\n",
              "    </tr>\n",
              "  </tbody>\n",
              "</table>\n",
              "<p>40000 rows × 11 columns</p>\n",
              "</div>"
            ],
            "text/plain": [
              "                     reviewID  ...                                       cleanContent\n",
              "0      ---2eJpQ2HAnRQRp2v7XLA  ...  came chicago business initially supposed stay ...\n",
              "1      --0gvJ0LlByoUsFi6x4eEQ  ...  still love place took menu deeply saddened sho...\n",
              "2      --1PwTt0AfyPG1pE7bB6Nw  ...  alan best know knows outs loop holes smart whi...\n",
              "3      --87QVdPvgbDK3GeVxFRzg  ...  family using korean many many years going asia...\n",
              "4      --99ZJoVHP32iSd4i4nlZw  ...  hadnt grisantis since prehomecoming dinner hig...\n",
              "...                       ...  ...                                                ...\n",
              "39995  fNlm6JHAHcSe-QROn7O6VQ  ...  senor called wapos food pretty good prices rig...\n",
              "39996  FNLp_jD_sY0R-yzc7Lc0GA  ...  resisted trying italian restaurants kansas cit...\n",
              "39997  FnlT8PuD86KVZ4f3o6Hemg  ...  dined lunch thought food wasnt wild reviewers ...\n",
              "39998  fnl_AyDHUGFPRhLFGIRy8A  ...  youre trying event budget want purchase bulk f...\n",
              "39999  FNM73j4hMWJVBoGbyV0zXg  ...  lovely bijoux fashioned toyshop independent sm...\n",
              "\n",
              "[40000 rows x 11 columns]"
            ]
          },
          "metadata": {
            "tags": []
          },
          "execution_count": 6
        }
      ]
    },
    {
      "cell_type": "code",
      "metadata": {
        "id": "50ZTIStlytV4",
        "outputId": "04f3631d-c1b9-4f8b-eb77-98f67321f461",
        "colab": {
          "base_uri": "https://localhost:8080/"
        }
      },
      "source": [
        "df.info()\r\n",
        "df.columns"
      ],
      "execution_count": 80,
      "outputs": [
        {
          "output_type": "stream",
          "text": [
            "<class 'pandas.core.frame.DataFrame'>\n",
            "RangeIndex: 40000 entries, 0 to 39999\n",
            "Data columns (total 17 columns):\n",
            " #   Column             Non-Null Count  Dtype  \n",
            "---  ------             --------------  -----  \n",
            " 0   reviewID           40000 non-null  object \n",
            " 1   reviewerID         40000 non-null  object \n",
            " 2   reviewContent      40000 non-null  object \n",
            " 3   rating             40000 non-null  object \n",
            " 4   usefulCount        40000 non-null  object \n",
            " 5   date               39994 non-null  object \n",
            " 6   reviewerID.1       39994 non-null  object \n",
            " 7   firstCount         39994 non-null  float64\n",
            " 8   reviewCount        39994 non-null  float64\n",
            " 9   Filtered           39994 non-null  float64\n",
            " 10  cleanContent       40000 non-null  object \n",
            " 11  linksCount         40000 non-null  int64  \n",
            " 12  hashtagsCount      40000 non-null  int64  \n",
            " 13  userMentionsCount  40000 non-null  int64  \n",
            " 14  numericsCount      40000 non-null  int64  \n",
            " 15  wCount             40000 non-null  int64  \n",
            " 16  wordCount          40000 non-null  int64  \n",
            "dtypes: float64(3), int64(6), object(8)\n",
            "memory usage: 5.2+ MB\n"
          ],
          "name": "stdout"
        },
        {
          "output_type": "execute_result",
          "data": {
            "text/plain": [
              "Index(['reviewID', 'reviewerID', 'reviewContent', 'rating', 'usefulCount',\n",
              "       'date', 'reviewerID.1', 'firstCount', 'reviewCount', 'Filtered',\n",
              "       'cleanContent', 'linksCount', 'hashtagsCount', 'userMentionsCount',\n",
              "       'numericsCount', 'wCount', 'wordCount'],\n",
              "      dtype='object')"
            ]
          },
          "metadata": {
            "tags": []
          },
          "execution_count": 80
        }
      ]
    },
    {
      "cell_type": "code",
      "metadata": {
        "id": "T79LR3028CKA"
      },
      "source": [
        ""
      ],
      "execution_count": 6,
      "outputs": []
    },
    {
      "cell_type": "markdown",
      "metadata": {
        "id": "KHTvFk1i8qWl"
      },
      "source": [
        "# **TF-IDF**"
      ]
    },
    {
      "cell_type": "code",
      "metadata": {
        "id": "eQy46sMuS3LA"
      },
      "source": [
        "from sklearn.feature_extraction.text import TfidfVectorizer\r\n",
        "tfidfconverter = TfidfVectorizer(max_features=1000, min_df=5, max_df=0.7, stop_words=stopwords.words('english'))\r\n",
        "tfidf_matrix = tfidfconverter.fit_transform(df[\"cleanContent\"])"
      ],
      "execution_count": 7,
      "outputs": []
    },
    {
      "cell_type": "code",
      "metadata": {
        "colab": {
          "base_uri": "https://localhost:8080/"
        },
        "id": "HQS20F37UiRS",
        "outputId": "532f5515-a529-468b-9fe2-0fb408708cd1"
      },
      "source": [
        "print(len(tfidf_matrix.toarray()))\r\n"
      ],
      "execution_count": 8,
      "outputs": [
        {
          "output_type": "stream",
          "text": [
            "40000\n"
          ],
          "name": "stdout"
        }
      ]
    },
    {
      "cell_type": "markdown",
      "metadata": {
        "id": "w0hNP5dJ8554"
      },
      "source": [
        "# **calculateing cosine similarity**"
      ]
    },
    {
      "cell_type": "code",
      "metadata": {
        "id": "8CVfZx19TXxK"
      },
      "source": [
        "from sklearn.metrics.pairwise import cosine_similarity\r\n",
        "cosineSim=[]\r\n",
        "for i in range(len(tfidf_matrix.toarray())):\r\n",
        "  sim=(cosine_similarity(tfidf_matrix[i], tfidf_matrix)).mean()\r\n",
        "  cosineSim.append(sim)"
      ],
      "execution_count": 9,
      "outputs": []
    },
    {
      "cell_type": "markdown",
      "metadata": {
        "id": "ItH1UA-o9Fmu"
      },
      "source": [
        "# **text processing**"
      ]
    },
    {
      "cell_type": "code",
      "metadata": {
        "colab": {
          "base_uri": "https://localhost:8080/",
          "height": 959
        },
        "id": "BNxOe7egbXm1",
        "outputId": "e21913cf-bc6e-4e82-9f08-10fb2fea0167"
      },
      "source": [
        "list_of_rows = [list(row) for row in df.values]\r\n",
        "#print(len(cosineSim))\r\n",
        "links_count(df,\"reviewContent\",\"linksCount\")\r\n",
        "hashtags_count(df, \"reviewContent\", \"hashtagsCount\")\r\n",
        "user_mentions_count(df, \"reviewContent\", \"userMentionsCount\")\r\n",
        "numerics_count(df,\"reviewContent\",\"numericsCount\")\r\n",
        "clean(df, \"reviewContent\", \"cleanContent\")\r\n",
        "\r\n",
        "word_count(df, \"reviewContent\", \"wCount\")\r\n",
        "word_count(df, \"cleanContent\", \"wordCount\")\r\n",
        "\r\n"
      ],
      "execution_count": 10,
      "outputs": [
        {
          "output_type": "execute_result",
          "data": {
            "text/html": [
              "<div>\n",
              "<style scoped>\n",
              "    .dataframe tbody tr th:only-of-type {\n",
              "        vertical-align: middle;\n",
              "    }\n",
              "\n",
              "    .dataframe tbody tr th {\n",
              "        vertical-align: top;\n",
              "    }\n",
              "\n",
              "    .dataframe thead th {\n",
              "        text-align: right;\n",
              "    }\n",
              "</style>\n",
              "<table border=\"1\" class=\"dataframe\">\n",
              "  <thead>\n",
              "    <tr style=\"text-align: right;\">\n",
              "      <th></th>\n",
              "      <th>reviewID</th>\n",
              "      <th>reviewerID</th>\n",
              "      <th>reviewContent</th>\n",
              "      <th>rating</th>\n",
              "      <th>usefulCount</th>\n",
              "      <th>date</th>\n",
              "      <th>reviewerID.1</th>\n",
              "      <th>firstCount</th>\n",
              "      <th>reviewCount</th>\n",
              "      <th>Filtered</th>\n",
              "      <th>cleanContent</th>\n",
              "      <th>linksCount</th>\n",
              "      <th>hashtagsCount</th>\n",
              "      <th>userMentionsCount</th>\n",
              "      <th>numericsCount</th>\n",
              "      <th>wCount</th>\n",
              "      <th>wordCount</th>\n",
              "    </tr>\n",
              "  </thead>\n",
              "  <tbody>\n",
              "    <tr>\n",
              "      <th>0</th>\n",
              "      <td>---2eJpQ2HAnRQRp2v7XLA</td>\n",
              "      <td>-ORdirlxcallT7dzlZlW2A</td>\n",
              "      <td>I came to Chicago on business and was initiall...</td>\n",
              "      <td>5</td>\n",
              "      <td>5</td>\n",
              "      <td>9/28/2011</td>\n",
              "      <td>-ORdirlxcallT7dzlZlW2A</td>\n",
              "      <td>0.0</td>\n",
              "      <td>2.0</td>\n",
              "      <td>0.0</td>\n",
              "      <td>came chicago business initially supposed stay ...</td>\n",
              "      <td>0</td>\n",
              "      <td>0</td>\n",
              "      <td>0</td>\n",
              "      <td>0</td>\n",
              "      <td>138</td>\n",
              "      <td>70</td>\n",
              "    </tr>\n",
              "    <tr>\n",
              "      <th>1</th>\n",
              "      <td>--0gvJ0LlByoUsFi6x4eEQ</td>\n",
              "      <td>biZ0fIcZp7B-KBJ3EGcX7Q</td>\n",
              "      <td>I still love this place but the took Mu Shu of...</td>\n",
              "      <td>5</td>\n",
              "      <td>2</td>\n",
              "      <td>Update - 5/12/2009</td>\n",
              "      <td>biZ0fIcZp7B-KBJ3EGcX7Q</td>\n",
              "      <td>268.0</td>\n",
              "      <td>543.0</td>\n",
              "      <td>0.0</td>\n",
              "      <td>still love place took menu deeply saddened sho...</td>\n",
              "      <td>0</td>\n",
              "      <td>0</td>\n",
              "      <td>0</td>\n",
              "      <td>0</td>\n",
              "      <td>21</td>\n",
              "      <td>10</td>\n",
              "    </tr>\n",
              "    <tr>\n",
              "      <th>2</th>\n",
              "      <td>--1PwTt0AfyPG1pE7bB6Nw</td>\n",
              "      <td>pW9LvtC-hZ0PRAOUn7aZ2A</td>\n",
              "      <td>Alan is the best CPA that I know. He knows all...</td>\n",
              "      <td>5</td>\n",
              "      <td>0</td>\n",
              "      <td>8/15/2006</td>\n",
              "      <td>pW9LvtC-hZ0PRAOUn7aZ2A</td>\n",
              "      <td>834.0</td>\n",
              "      <td>1463.0</td>\n",
              "      <td>0.0</td>\n",
              "      <td>alan best know knows outs loop holes smart whi...</td>\n",
              "      <td>0</td>\n",
              "      <td>0</td>\n",
              "      <td>0</td>\n",
              "      <td>0</td>\n",
              "      <td>102</td>\n",
              "      <td>28</td>\n",
              "    </tr>\n",
              "    <tr>\n",
              "      <th>3</th>\n",
              "      <td>--87QVdPvgbDK3GeVxFRzg</td>\n",
              "      <td>92rtlWxS2aOngzkKhi-OxQ</td>\n",
              "      <td>My family has been using Korean Air for many m...</td>\n",
              "      <td>4</td>\n",
              "      <td>0</td>\n",
              "      <td>7/28/2012</td>\n",
              "      <td>92rtlWxS2aOngzkKhi-OxQ</td>\n",
              "      <td>43.0</td>\n",
              "      <td>158.0</td>\n",
              "      <td>0.0</td>\n",
              "      <td>family using korean many many years going asia...</td>\n",
              "      <td>0</td>\n",
              "      <td>0</td>\n",
              "      <td>0</td>\n",
              "      <td>0</td>\n",
              "      <td>135</td>\n",
              "      <td>62</td>\n",
              "    </tr>\n",
              "    <tr>\n",
              "      <th>4</th>\n",
              "      <td>--99ZJoVHP32iSd4i4nlZw</td>\n",
              "      <td>Egu4qSFR56EhGuTHZTaVjA</td>\n",
              "      <td>I hadn't been to Grisanti's since a pre-homeco...</td>\n",
              "      <td>3</td>\n",
              "      <td>0</td>\n",
              "      <td>1/28/2010</td>\n",
              "      <td>Egu4qSFR56EhGuTHZTaVjA</td>\n",
              "      <td>133.0</td>\n",
              "      <td>725.0</td>\n",
              "      <td>0.0</td>\n",
              "      <td>hadnt grisantis since prehomecoming dinner hig...</td>\n",
              "      <td>0</td>\n",
              "      <td>0</td>\n",
              "      <td>0</td>\n",
              "      <td>0</td>\n",
              "      <td>142</td>\n",
              "      <td>73</td>\n",
              "    </tr>\n",
              "    <tr>\n",
              "      <th>...</th>\n",
              "      <td>...</td>\n",
              "      <td>...</td>\n",
              "      <td>...</td>\n",
              "      <td>...</td>\n",
              "      <td>...</td>\n",
              "      <td>...</td>\n",
              "      <td>...</td>\n",
              "      <td>...</td>\n",
              "      <td>...</td>\n",
              "      <td>...</td>\n",
              "      <td>...</td>\n",
              "      <td>...</td>\n",
              "      <td>...</td>\n",
              "      <td>...</td>\n",
              "      <td>...</td>\n",
              "      <td>...</td>\n",
              "      <td>...</td>\n",
              "    </tr>\n",
              "    <tr>\n",
              "      <th>39995</th>\n",
              "      <td>fNlm6JHAHcSe-QROn7O6VQ</td>\n",
              "      <td>drzHAHTHFnThHW0R0rOdDQ</td>\n",
              "      <td>***Si Senor is now called Wapos*** Food is pre...</td>\n",
              "      <td>4</td>\n",
              "      <td>1</td>\n",
              "      <td>9/9/2012</td>\n",
              "      <td>drzHAHTHFnThHW0R0rOdDQ</td>\n",
              "      <td>24.0</td>\n",
              "      <td>405.0</td>\n",
              "      <td>0.0</td>\n",
              "      <td>senor called wapos food pretty good prices rig...</td>\n",
              "      <td>0</td>\n",
              "      <td>0</td>\n",
              "      <td>0</td>\n",
              "      <td>0</td>\n",
              "      <td>33</td>\n",
              "      <td>16</td>\n",
              "    </tr>\n",
              "    <tr>\n",
              "      <th>39996</th>\n",
              "      <td>FNLp_jD_sY0R-yzc7Lc0GA</td>\n",
              "      <td>0G-QF457q_0Z_jKqh6xWiA</td>\n",
              "      <td>I've resisted trying Italian restaurants in Ka...</td>\n",
              "      <td>3</td>\n",
              "      <td>8</td>\n",
              "      <td>12/22/2010</td>\n",
              "      <td>0G-QF457q_0Z_jKqh6xWiA</td>\n",
              "      <td>95.0</td>\n",
              "      <td>1010.0</td>\n",
              "      <td>0.0</td>\n",
              "      <td>resisted trying italian restaurants kansas cit...</td>\n",
              "      <td>0</td>\n",
              "      <td>0</td>\n",
              "      <td>0</td>\n",
              "      <td>0</td>\n",
              "      <td>143</td>\n",
              "      <td>69</td>\n",
              "    </tr>\n",
              "    <tr>\n",
              "      <th>39997</th>\n",
              "      <td>FnlT8PuD86KVZ4f3o6Hemg</td>\n",
              "      <td>Bx6Tz_TJDS7KB5jX123haA</td>\n",
              "      <td>Have only dined in once for lunch thought the ...</td>\n",
              "      <td>3</td>\n",
              "      <td>0</td>\n",
              "      <td>2/11/2012</td>\n",
              "      <td>Bx6Tz_TJDS7KB5jX123haA</td>\n",
              "      <td>13.0</td>\n",
              "      <td>177.0</td>\n",
              "      <td>0.0</td>\n",
              "      <td>dined lunch thought food wasnt wild reviewers ...</td>\n",
              "      <td>0</td>\n",
              "      <td>0</td>\n",
              "      <td>0</td>\n",
              "      <td>0</td>\n",
              "      <td>24</td>\n",
              "      <td>9</td>\n",
              "    </tr>\n",
              "    <tr>\n",
              "      <th>39998</th>\n",
              "      <td>fnl_AyDHUGFPRhLFGIRy8A</td>\n",
              "      <td>0Igx-a1wAstiBDerGxXk2A</td>\n",
              "      <td>So say you're trying to do an event on a budge...</td>\n",
              "      <td>4</td>\n",
              "      <td>4</td>\n",
              "      <td>1/18/2011</td>\n",
              "      <td>0Igx-a1wAstiBDerGxXk2A</td>\n",
              "      <td>302.0</td>\n",
              "      <td>917.0</td>\n",
              "      <td>0.0</td>\n",
              "      <td>youre trying event budget want purchase bulk f...</td>\n",
              "      <td>0</td>\n",
              "      <td>0</td>\n",
              "      <td>0</td>\n",
              "      <td>0</td>\n",
              "      <td>78</td>\n",
              "      <td>32</td>\n",
              "    </tr>\n",
              "    <tr>\n",
              "      <th>39999</th>\n",
              "      <td>FNM73j4hMWJVBoGbyV0zXg</td>\n",
              "      <td>OapLWhQI4_Gm32-nYbHmUA</td>\n",
              "      <td>What a lovely bijoux old fashioned toyshop! Th...</td>\n",
              "      <td>4</td>\n",
              "      <td>6</td>\n",
              "      <td>10/20/2009</td>\n",
              "      <td>OapLWhQI4_Gm32-nYbHmUA</td>\n",
              "      <td>754.0</td>\n",
              "      <td>1693.0</td>\n",
              "      <td>0.0</td>\n",
              "      <td>lovely bijoux fashioned toyshop independent sm...</td>\n",
              "      <td>0</td>\n",
              "      <td>0</td>\n",
              "      <td>0</td>\n",
              "      <td>0</td>\n",
              "      <td>62</td>\n",
              "      <td>31</td>\n",
              "    </tr>\n",
              "  </tbody>\n",
              "</table>\n",
              "<p>40000 rows × 17 columns</p>\n",
              "</div>"
            ],
            "text/plain": [
              "                     reviewID              reviewerID  ... wCount wordCount\n",
              "0      ---2eJpQ2HAnRQRp2v7XLA  -ORdirlxcallT7dzlZlW2A  ...    138        70\n",
              "1      --0gvJ0LlByoUsFi6x4eEQ  biZ0fIcZp7B-KBJ3EGcX7Q  ...     21        10\n",
              "2      --1PwTt0AfyPG1pE7bB6Nw  pW9LvtC-hZ0PRAOUn7aZ2A  ...    102        28\n",
              "3      --87QVdPvgbDK3GeVxFRzg  92rtlWxS2aOngzkKhi-OxQ  ...    135        62\n",
              "4      --99ZJoVHP32iSd4i4nlZw  Egu4qSFR56EhGuTHZTaVjA  ...    142        73\n",
              "...                       ...                     ...  ...    ...       ...\n",
              "39995  fNlm6JHAHcSe-QROn7O6VQ  drzHAHTHFnThHW0R0rOdDQ  ...     33        16\n",
              "39996  FNLp_jD_sY0R-yzc7Lc0GA  0G-QF457q_0Z_jKqh6xWiA  ...    143        69\n",
              "39997  FnlT8PuD86KVZ4f3o6Hemg  Bx6Tz_TJDS7KB5jX123haA  ...     24         9\n",
              "39998  fnl_AyDHUGFPRhLFGIRy8A  0Igx-a1wAstiBDerGxXk2A  ...     78        32\n",
              "39999  FNM73j4hMWJVBoGbyV0zXg  OapLWhQI4_Gm32-nYbHmUA  ...     62        31\n",
              "\n",
              "[40000 rows x 17 columns]"
            ]
          },
          "metadata": {
            "tags": []
          },
          "execution_count": 10
        }
      ]
    },
    {
      "cell_type": "markdown",
      "metadata": {
        "id": "gmAoUcJ69XZz"
      },
      "source": [
        "# **feature Extraction**"
      ]
    },
    {
      "cell_type": "code",
      "metadata": {
        "colab": {
          "base_uri": "https://localhost:8080/",
          "height": 195
        },
        "id": "whyJFWsNeUO8",
        "outputId": "bc280d0b-573c-40c3-f9c3-e95f1018a282"
      },
      "source": [
        "dateList=[]\r\n",
        "for word in list_of_rows:\r\n",
        "    if \"Update\" in str(word[5]):\r\n",
        "        dateList.append(1)\r\n",
        "    else:\r\n",
        "        dateList.append(0)\r\n",
        "\r\n",
        "extremeRating=[]\r\n",
        "for rating in list(df[\"rating\"]):\r\n",
        "    if rating == 5 or rating == 1:\r\n",
        "        extremeRating.append(1)\r\n",
        "    else:\r\n",
        "        extremeRating.append(0)\r\n",
        "\r\n",
        "\r\n",
        "\r\n",
        "\r\n",
        "dict = {'UpdateOrNot': dateList,\r\n",
        "       'NumberOfURLs': list(df[\"linksCount\"]),\r\n",
        "       'NumberOfnumerics': list(df[\"numericsCount\"]),\r\n",
        "      #'hashtagsCount': list(df[\"hashtagsCount\"]),\r\n",
        "      #'userMentionsCount': list(df[\"userMentionsCount\"]),\r\n",
        "       'extremeRating':extremeRating,\r\n",
        "       'firstCount':list(df[\"firstCount\"]),\r\n",
        "       'wordCount':list(df['wCount']),\r\n",
        "       'reviewCount':list(df['reviewCount']),\r\n",
        "       'usefulCount':list(df['usefulCount']),\r\n",
        "        'cosineSimilarty':cosineSim,\r\n",
        "       'Filtered':list(df[\"Filtered\"])\r\n",
        "        }\r\n",
        "\r\n",
        "\r\n",
        "df1 = pd.DataFrame(dict)\r\n",
        "df1.to_csv('Data.csv',index=False)\r\n",
        "df1.head()"
      ],
      "execution_count": 11,
      "outputs": [
        {
          "output_type": "execute_result",
          "data": {
            "text/html": [
              "<div>\n",
              "<style scoped>\n",
              "    .dataframe tbody tr th:only-of-type {\n",
              "        vertical-align: middle;\n",
              "    }\n",
              "\n",
              "    .dataframe tbody tr th {\n",
              "        vertical-align: top;\n",
              "    }\n",
              "\n",
              "    .dataframe thead th {\n",
              "        text-align: right;\n",
              "    }\n",
              "</style>\n",
              "<table border=\"1\" class=\"dataframe\">\n",
              "  <thead>\n",
              "    <tr style=\"text-align: right;\">\n",
              "      <th></th>\n",
              "      <th>UpdateOrNot</th>\n",
              "      <th>NumberOfURLs</th>\n",
              "      <th>NumberOfnumerics</th>\n",
              "      <th>extremeRating</th>\n",
              "      <th>firstCount</th>\n",
              "      <th>wordCount</th>\n",
              "      <th>reviewCount</th>\n",
              "      <th>usefulCount</th>\n",
              "      <th>cosineSimilarty</th>\n",
              "      <th>Filtered</th>\n",
              "    </tr>\n",
              "  </thead>\n",
              "  <tbody>\n",
              "    <tr>\n",
              "      <th>0</th>\n",
              "      <td>0</td>\n",
              "      <td>0</td>\n",
              "      <td>0</td>\n",
              "      <td>0</td>\n",
              "      <td>0.0</td>\n",
              "      <td>138</td>\n",
              "      <td>2.0</td>\n",
              "      <td>5</td>\n",
              "      <td>0.038284</td>\n",
              "      <td>0.0</td>\n",
              "    </tr>\n",
              "    <tr>\n",
              "      <th>1</th>\n",
              "      <td>1</td>\n",
              "      <td>0</td>\n",
              "      <td>0</td>\n",
              "      <td>0</td>\n",
              "      <td>268.0</td>\n",
              "      <td>21</td>\n",
              "      <td>543.0</td>\n",
              "      <td>2</td>\n",
              "      <td>0.027823</td>\n",
              "      <td>0.0</td>\n",
              "    </tr>\n",
              "    <tr>\n",
              "      <th>2</th>\n",
              "      <td>0</td>\n",
              "      <td>0</td>\n",
              "      <td>0</td>\n",
              "      <td>0</td>\n",
              "      <td>834.0</td>\n",
              "      <td>102</td>\n",
              "      <td>1463.0</td>\n",
              "      <td>0</td>\n",
              "      <td>0.021433</td>\n",
              "      <td>0.0</td>\n",
              "    </tr>\n",
              "    <tr>\n",
              "      <th>3</th>\n",
              "      <td>0</td>\n",
              "      <td>0</td>\n",
              "      <td>0</td>\n",
              "      <td>0</td>\n",
              "      <td>43.0</td>\n",
              "      <td>135</td>\n",
              "      <td>158.0</td>\n",
              "      <td>0</td>\n",
              "      <td>0.043143</td>\n",
              "      <td>0.0</td>\n",
              "    </tr>\n",
              "    <tr>\n",
              "      <th>4</th>\n",
              "      <td>0</td>\n",
              "      <td>0</td>\n",
              "      <td>0</td>\n",
              "      <td>0</td>\n",
              "      <td>133.0</td>\n",
              "      <td>142</td>\n",
              "      <td>725.0</td>\n",
              "      <td>0</td>\n",
              "      <td>0.043215</td>\n",
              "      <td>0.0</td>\n",
              "    </tr>\n",
              "  </tbody>\n",
              "</table>\n",
              "</div>"
            ],
            "text/plain": [
              "   UpdateOrNot  NumberOfURLs  ...  cosineSimilarty  Filtered\n",
              "0            0             0  ...         0.038284       0.0\n",
              "1            1             0  ...         0.027823       0.0\n",
              "2            0             0  ...         0.021433       0.0\n",
              "3            0             0  ...         0.043143       0.0\n",
              "4            0             0  ...         0.043215       0.0\n",
              "\n",
              "[5 rows x 10 columns]"
            ]
          },
          "metadata": {
            "tags": []
          },
          "execution_count": 11
        }
      ]
    },
    {
      "cell_type": "code",
      "metadata": {
        "colab": {
          "base_uri": "https://localhost:8080/"
        },
        "id": "jvEDnTCidHvt",
        "outputId": "4374dc1b-1aef-436f-f00c-3005e8cd3176"
      },
      "source": [
        "df1.info()\r\n",
        "df1['Filtered'].value_counts()"
      ],
      "execution_count": 12,
      "outputs": [
        {
          "output_type": "stream",
          "text": [
            "<class 'pandas.core.frame.DataFrame'>\n",
            "RangeIndex: 40000 entries, 0 to 39999\n",
            "Data columns (total 10 columns):\n",
            " #   Column            Non-Null Count  Dtype  \n",
            "---  ------            --------------  -----  \n",
            " 0   UpdateOrNot       40000 non-null  int64  \n",
            " 1   NumberOfURLs      40000 non-null  int64  \n",
            " 2   NumberOfnumerics  40000 non-null  int64  \n",
            " 3   extremeRating     40000 non-null  int64  \n",
            " 4   firstCount        39994 non-null  float64\n",
            " 5   wordCount         40000 non-null  int64  \n",
            " 6   reviewCount       39994 non-null  float64\n",
            " 7   usefulCount       40000 non-null  object \n",
            " 8   cosineSimilarty   40000 non-null  float64\n",
            " 9   Filtered          39994 non-null  float64\n",
            "dtypes: float64(4), int64(5), object(1)\n",
            "memory usage: 3.1+ MB\n"
          ],
          "name": "stdout"
        },
        {
          "output_type": "execute_result",
          "data": {
            "text/plain": [
              "0.0    33220\n",
              "1.0     6774\n",
              "Name: Filtered, dtype: int64"
            ]
          },
          "metadata": {
            "tags": []
          },
          "execution_count": 12
        }
      ]
    },
    {
      "cell_type": "code",
      "metadata": {
        "id": "kJspnBuxdkZK"
      },
      "source": [
        "df1.replace([np.inf, -np.inf], np.nan, inplace=True)\r\n",
        "df1= df1.apply(lambda x: pd.to_numeric(x, errors='coerce')).dropna().astype(int)"
      ],
      "execution_count": 13,
      "outputs": []
    },
    {
      "cell_type": "code",
      "metadata": {
        "id": "jZjHksgleeVj"
      },
      "source": [
        "X = df1.drop('Filtered', axis=1).astype(int, errors='ignore')\r\n",
        "y = df1['Filtered'].astype(int, errors='ignore')"
      ],
      "execution_count": 14,
      "outputs": []
    },
    {
      "cell_type": "markdown",
      "metadata": {
        "id": "8OrSIfvI9p1d"
      },
      "source": [
        "# **handling imbalanced dataset by over sampling**"
      ]
    },
    {
      "cell_type": "code",
      "metadata": {
        "colab": {
          "base_uri": "https://localhost:8080/"
        },
        "id": "j_D-Fkt2plnJ",
        "outputId": "64b83f7d-b8bc-4607-cbc7-f2ddd416b7fe"
      },
      "source": [
        "from collections import Counter\r\n",
        "from sklearn.datasets import make_classification\r\n",
        "from imblearn.over_sampling import RandomOverSampler\r\n",
        "\r\n",
        "oversample = RandomOverSampler(sampling_strategy='minority')\r\n",
        "oversample = RandomOverSampler(sampling_strategy=1.0)\r\n",
        "X, y = oversample.fit_resample(X, y)\r\n",
        "print(Counter(y))\r\n",
        "\r\n"
      ],
      "execution_count": 22,
      "outputs": [
        {
          "output_type": "stream",
          "text": [
            "Counter({0: 33220, 1: 33220})\n"
          ],
          "name": "stdout"
        },
        {
          "output_type": "stream",
          "text": [
            "/usr/local/lib/python3.6/dist-packages/sklearn/utils/deprecation.py:87: FutureWarning: Function safe_indexing is deprecated; safe_indexing is deprecated in version 0.22 and will be removed in version 0.24.\n",
            "  warnings.warn(msg, category=FutureWarning)\n"
          ],
          "name": "stderr"
        }
      ]
    },
    {
      "cell_type": "markdown",
      "metadata": {
        "id": "RclMQgO19yUr"
      },
      "source": [
        "# **Split for train and test**"
      ]
    },
    {
      "cell_type": "code",
      "metadata": {
        "id": "v2r4BBT4dvu1"
      },
      "source": [
        "from sklearn.model_selection import train_test_split\r\n",
        "X_train, X_test, y_train, y_test = train_test_split(X,y ,test_size=0.3)\r\n"
      ],
      "execution_count": 16,
      "outputs": []
    },
    {
      "cell_type": "markdown",
      "metadata": {
        "id": "eBPwhm7b95rU"
      },
      "source": [
        "# **Decision Tree Classifier**"
      ]
    },
    {
      "cell_type": "code",
      "metadata": {
        "colab": {
          "base_uri": "https://localhost:8080/"
        },
        "id": "KLyxyJRXd-rW",
        "outputId": "8b2a273e-94a1-4570-b96b-c92fb2824cf2"
      },
      "source": [
        "from sklearn.tree import DecisionTreeClassifier\r\n",
        "classifier = DecisionTreeClassifier()\r\n",
        "classifier.fit(X_train, y_train)\r\n",
        "y_pred = classifier.predict(X_test)\r\n",
        "print(\"Decision Tree:\")\r\n",
        "print(\"Accuracy:\",accuracy_score(y_test, y_pred)*100)\r\n",
        "print(\"precision_score:\",precision_score(y_test, y_pred)*100)\r\n",
        "print(\"recall_score:\",recall_score(y_test, y_pred)*100)\r\n",
        "print(\"f1_score:\",f1_score(y_test, y_pred)*100)\r\n"
      ],
      "execution_count": 17,
      "outputs": [
        {
          "output_type": "stream",
          "text": [
            "Decision Tree:\n",
            "Accuracy: 89.1782059000602\n",
            "precision_score: 83.78308251167617\n",
            "recall_score: 97.17123081552815\n",
            "f1_score: 89.98188658213738\n"
          ],
          "name": "stdout"
        }
      ]
    },
    {
      "cell_type": "markdown",
      "metadata": {
        "id": "XHrctcziAhrj"
      },
      "source": [
        ""
      ]
    },
    {
      "cell_type": "markdown",
      "metadata": {
        "id": "2lxO5KeU9-wk"
      },
      "source": [
        "# **xgboost Classifier**"
      ]
    },
    {
      "cell_type": "code",
      "metadata": {
        "colab": {
          "base_uri": "https://localhost:8080/"
        },
        "id": "tHxW3BLKsi2I",
        "outputId": "bb58cd28-52e9-47f6-ee5f-cd93da4a46ed"
      },
      "source": [
        "import xgboost\r\n",
        "from sklearn.model_selection import StratifiedKFold\r\n",
        "from sklearn.model_selection import cross_val_score\r\n",
        "\r\n",
        "model = xgboost.XGBClassifier(subsample=0.85,learning_rate=0.3,max_depth= 95,max_features=1,min_samples_leaf=3,min_samples_split= 3,n_estimators= 1000)\r\n",
        "kfold = StratifiedKFold(n_splits=5, random_state=None, shuffle=True)\r\n",
        "for score in [\"accuracy\", \"precision\", \"recall\",\"f1\"]:\r\n",
        "  print( score,\" : \",cross_val_score(model, X,y,scoring=score, cv=kfold).mean()*100)"
      ],
      "execution_count": 18,
      "outputs": [
        {
          "output_type": "stream",
          "text": [
            "accuracy  :  92.93046357615896\n",
            "precision  :  88.7418297450717\n",
            "recall  :  98.39253461770019\n",
            "f1  :  93.42213598087964\n"
          ],
          "name": "stdout"
        }
      ]
    },
    {
      "cell_type": "markdown",
      "metadata": {
        "id": "WYVhdT6h5kUh"
      },
      "source": [
        "# **export**\r\n",
        "\r\n"
      ]
    },
    {
      "cell_type": "code",
      "metadata": {
        "id": "NZN5KDh8Wqcq"
      },
      "source": [
        "import pickle\r\n"
      ],
      "execution_count": 75,
      "outputs": []
    },
    {
      "cell_type": "code",
      "metadata": {
        "id": "f1yjmS-OXB2Q"
      },
      "source": [
        "\r\n",
        "with open('drive/My Drive/model_pickle','wb') as file:\r\n",
        "    pickle.dump(classifier,file)"
      ],
      "execution_count": 76,
      "outputs": []
    },
    {
      "cell_type": "code",
      "metadata": {
        "id": "B566UvcuYrkL"
      },
      "source": [
        "with open('model_pickle','rb') as file:\r\n",
        "    mp = pickle.load(file)"
      ],
      "execution_count": 33,
      "outputs": []
    },
    {
      "cell_type": "code",
      "metadata": {
        "id": "2BC0pImBh63V"
      },
      "source": [
        "\r\n"
      ],
      "execution_count": 80,
      "outputs": []
    }
  ]
}