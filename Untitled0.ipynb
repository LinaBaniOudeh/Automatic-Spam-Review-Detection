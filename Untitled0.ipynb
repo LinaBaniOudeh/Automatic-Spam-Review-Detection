{
  "nbformat": 4,
  "nbformat_minor": 0,
  "metadata": {
    "colab": {
      "name": "Untitled0.ipynb",
      "provenance": [],
      "collapsed_sections": [],
      "authorship_tag": "ABX9TyOKi83ZGRDOqVU2p01wJ6ZK",
      "include_colab_link": true
    },
    "kernelspec": {
      "name": "python3",
      "display_name": "Python 3"
    }
  },
  "cells": [
    {
      "cell_type": "markdown",
      "metadata": {
        "id": "view-in-github",
        "colab_type": "text"
      },
      "source": [
        "<a href=\"https://colab.research.google.com/github/RaghadQadah/Automatic-Spam-Review-Detection/blob/main/Untitled0.ipynb\" target=\"_parent\"><img src=\"https://colab.research.google.com/assets/colab-badge.svg\" alt=\"Open In Colab\"/></a>"
      ]
    },
    {
      "cell_type": "code",
      "metadata": {
        "colab": {
          "base_uri": "https://localhost:8080/"
        },
        "id": "JdkS7Z5YSd6l",
        "outputId": "e7cbd40a-afd7-4209-8993-42d4faab74c0"
      },
      "source": [
        "from google.colab import drive\r\n",
        "drive.mount('/content/drive')"
      ],
      "execution_count": 1,
      "outputs": [
        {
          "output_type": "stream",
          "text": [
            "Mounted at /content/drive\n"
          ],
          "name": "stdout"
        }
      ]
    },
    {
      "cell_type": "code",
      "metadata": {
        "colab": {
          "base_uri": "https://localhost:8080/"
        },
        "id": "LHSz-XMISmkZ",
        "outputId": "a00c4aa0-9f6f-437b-8b2b-2fe7cbc97ec2"
      },
      "source": [
        "import numpy as np\r\n",
        "import matplotlib.pyplot as plt\r\n",
        "import pandas as pd\r\n",
        "import string\r\n",
        "import nltk\r\n",
        "nltk.download('stopwords')\r\n",
        "from nltk.corpus import stopwords\r\n",
        "stop = stopwords.words('english')"
      ],
      "execution_count": 3,
      "outputs": [
        {
          "output_type": "stream",
          "text": [
            "[nltk_data] Downloading package stopwords to /root/nltk_data...\n",
            "[nltk_data]   Unzipping corpora/stopwords.zip.\n"
          ],
          "name": "stdout"
        }
      ]
    },
    {
      "cell_type": "code",
      "metadata": {
        "id": "tovH2j-dS4BS"
      },
      "source": [
        "def clean(df, text, name):\r\n",
        "    df[name] = df[text].str.lower()\r\n",
        "    df[name] = df[name].str.replace('http\\S+|www.\\S+', '', case=False)\r\n",
        "    df[name] = df[name].str.replace('[^\\w\\s]', '')\r\n",
        "    df[name] = df[name].str.replace('\\d+', '')\r\n",
        "    df[name] = df[name].apply(lambda x: ' '.join([word for word in  str(x).split() if word not in (stop)]))\r\n",
        "    df[name] = df[name].apply(lambda x: \" \".join(x for x in  str(x).split() if len(x) > 3))\r\n",
        "    return df\r\n",
        "def word_count(df, text, name):\r\n",
        "    df[name] = df[text].apply(lambda x: len(str(x).split(\" \")))\r\n",
        "    return df\r\n",
        "\r\n",
        "def hashtags_count(df, text, name):\r\n",
        "    df[name] = df[text].apply(lambda x: len([x for x in  str(x).split() if x.startswith('#')]))\r\n",
        "    return df\r\n",
        "\r\n",
        "def user_mentions_count(df, text, name):\r\n",
        "    df[name] = df[text].apply(lambda x: len([x for x in  str(x).split() if x.startswith('@')]))\r\n",
        "    return df\r\n",
        "\r\n",
        "def numerics_count(df, text, name):\r\n",
        "    df[name] = df[text].apply(lambda x: len([x for x in  str(x).split() if x.isdigit()]))\r\n",
        "    return df\r\n",
        "\r\n",
        "def links_count(df, text, name):\r\n",
        "    df[name] = df[text].apply(\r\n",
        "        lambda x: len([x for x in  str(x).split() if x.startswith(('httP', 'HTTPS', 'https', 'www', 'WWW', 'HTTP', 'http')) ]))\r\n",
        "    return df"
      ],
      "execution_count": 39,
      "outputs": []
    },
    {
      "cell_type": "code",
      "metadata": {
        "colab": {
          "base_uri": "https://localhost:8080/",
          "height": 838
        },
        "id": "UHV6XVBLSna5",
        "outputId": "83955bc5-6134-4cbe-e98b-8a2264427396"
      },
      "source": [
        "df = pd.read_csv(\"drive/My Drive/Output.csv\",encoding='latin1',low_memory=False)\r\n",
        "df=df[:20000]\r\n",
        "clean(df, \"reviewContent\", \"cleanContent\")"
      ],
      "execution_count": 29,
      "outputs": [
        {
          "output_type": "execute_result",
          "data": {
            "text/html": [
              "<div>\n",
              "<style scoped>\n",
              "    .dataframe tbody tr th:only-of-type {\n",
              "        vertical-align: middle;\n",
              "    }\n",
              "\n",
              "    .dataframe tbody tr th {\n",
              "        vertical-align: top;\n",
              "    }\n",
              "\n",
              "    .dataframe thead th {\n",
              "        text-align: right;\n",
              "    }\n",
              "</style>\n",
              "<table border=\"1\" class=\"dataframe\">\n",
              "  <thead>\n",
              "    <tr style=\"text-align: right;\">\n",
              "      <th></th>\n",
              "      <th>reviewID</th>\n",
              "      <th>reviewerID</th>\n",
              "      <th>reviewContent</th>\n",
              "      <th>rating</th>\n",
              "      <th>usefulCount</th>\n",
              "      <th>date</th>\n",
              "      <th>reviewerID.1</th>\n",
              "      <th>firstCount</th>\n",
              "      <th>reviewCount</th>\n",
              "      <th>Filtered</th>\n",
              "      <th>cleanContent</th>\n",
              "    </tr>\n",
              "  </thead>\n",
              "  <tbody>\n",
              "    <tr>\n",
              "      <th>0</th>\n",
              "      <td>---2eJpQ2HAnRQRp2v7XLA</td>\n",
              "      <td>-ORdirlxcallT7dzlZlW2A</td>\n",
              "      <td>I came to Chicago on business and was initiall...</td>\n",
              "      <td>5</td>\n",
              "      <td>5</td>\n",
              "      <td>9/28/2011</td>\n",
              "      <td>-ORdirlxcallT7dzlZlW2A</td>\n",
              "      <td>0.0</td>\n",
              "      <td>2.0</td>\n",
              "      <td>0.0</td>\n",
              "      <td>came chicago business initially supposed stay ...</td>\n",
              "    </tr>\n",
              "    <tr>\n",
              "      <th>1</th>\n",
              "      <td>--0gvJ0LlByoUsFi6x4eEQ</td>\n",
              "      <td>biZ0fIcZp7B-KBJ3EGcX7Q</td>\n",
              "      <td>I still love this place but the took Mu Shu of...</td>\n",
              "      <td>5</td>\n",
              "      <td>2</td>\n",
              "      <td>Update - 5/12/2009</td>\n",
              "      <td>biZ0fIcZp7B-KBJ3EGcX7Q</td>\n",
              "      <td>268.0</td>\n",
              "      <td>543.0</td>\n",
              "      <td>0.0</td>\n",
              "      <td>still love place took menu deeply saddened sho...</td>\n",
              "    </tr>\n",
              "    <tr>\n",
              "      <th>2</th>\n",
              "      <td>--1PwTt0AfyPG1pE7bB6Nw</td>\n",
              "      <td>pW9LvtC-hZ0PRAOUn7aZ2A</td>\n",
              "      <td>Alan is the best CPA that I know. He knows all...</td>\n",
              "      <td>5</td>\n",
              "      <td>0</td>\n",
              "      <td>8/15/2006</td>\n",
              "      <td>pW9LvtC-hZ0PRAOUn7aZ2A</td>\n",
              "      <td>834.0</td>\n",
              "      <td>1463.0</td>\n",
              "      <td>0.0</td>\n",
              "      <td>alan best know knows outs loop holes smart whi...</td>\n",
              "    </tr>\n",
              "    <tr>\n",
              "      <th>3</th>\n",
              "      <td>--87QVdPvgbDK3GeVxFRzg</td>\n",
              "      <td>92rtlWxS2aOngzkKhi-OxQ</td>\n",
              "      <td>My family has been using Korean Air for many m...</td>\n",
              "      <td>4</td>\n",
              "      <td>0</td>\n",
              "      <td>7/28/2012</td>\n",
              "      <td>92rtlWxS2aOngzkKhi-OxQ</td>\n",
              "      <td>43.0</td>\n",
              "      <td>158.0</td>\n",
              "      <td>0.0</td>\n",
              "      <td>family using korean many many years going asia...</td>\n",
              "    </tr>\n",
              "    <tr>\n",
              "      <th>4</th>\n",
              "      <td>--99ZJoVHP32iSd4i4nlZw</td>\n",
              "      <td>Egu4qSFR56EhGuTHZTaVjA</td>\n",
              "      <td>I hadn't been to Grisanti's since a pre-homeco...</td>\n",
              "      <td>3</td>\n",
              "      <td>0</td>\n",
              "      <td>1/28/2010</td>\n",
              "      <td>Egu4qSFR56EhGuTHZTaVjA</td>\n",
              "      <td>133.0</td>\n",
              "      <td>725.0</td>\n",
              "      <td>0.0</td>\n",
              "      <td>hadnt grisantis since prehomecoming dinner hig...</td>\n",
              "    </tr>\n",
              "    <tr>\n",
              "      <th>...</th>\n",
              "      <td>...</td>\n",
              "      <td>...</td>\n",
              "      <td>...</td>\n",
              "      <td>...</td>\n",
              "      <td>...</td>\n",
              "      <td>...</td>\n",
              "      <td>...</td>\n",
              "      <td>...</td>\n",
              "      <td>...</td>\n",
              "      <td>...</td>\n",
              "      <td>...</td>\n",
              "    </tr>\n",
              "    <tr>\n",
              "      <th>19995</th>\n",
              "      <td>A18YXCahOIwmCJ1J8derdA</td>\n",
              "      <td>KYtrBL_Cp1CudlGC1XiiSA</td>\n",
              "      <td>I have to say that one of the best attributes ...</td>\n",
              "      <td>4</td>\n",
              "      <td>0</td>\n",
              "      <td>4/24/2010</td>\n",
              "      <td>KYtrBL_Cp1CudlGC1XiiSA</td>\n",
              "      <td>174.0</td>\n",
              "      <td>1022.0</td>\n",
              "      <td>0.0</td>\n",
              "      <td>best attributes place consistency around long ...</td>\n",
              "    </tr>\n",
              "    <tr>\n",
              "      <th>19996</th>\n",
              "      <td>a1a-7V09z2AfspiQeBiBCw</td>\n",
              "      <td>5Y5KbsI5buMcNh2hTFaRpA</td>\n",
              "      <td>Willowcreek is a decent option for vegetarians...</td>\n",
              "      <td>3</td>\n",
              "      <td>1</td>\n",
              "      <td>7/7/2011</td>\n",
              "      <td>5Y5KbsI5buMcNh2hTFaRpA</td>\n",
              "      <td>94.0</td>\n",
              "      <td>580.0</td>\n",
              "      <td>0.0</td>\n",
              "      <td>willowcreek decent option vegetariansvegans ha...</td>\n",
              "    </tr>\n",
              "    <tr>\n",
              "      <th>19997</th>\n",
              "      <td>a1AIpxn2OXX48s9RTmVr7g</td>\n",
              "      <td>wwNs_kMiVEn8V61uqP3ZzA</td>\n",
              "      <td>Rate location security and staff were better t...</td>\n",
              "      <td>4</td>\n",
              "      <td>3</td>\n",
              "      <td>7/18/2008</td>\n",
              "      <td>wwNs_kMiVEn8V61uqP3ZzA</td>\n",
              "      <td>5.0</td>\n",
              "      <td>12.0</td>\n",
              "      <td>0.0</td>\n",
              "      <td>rate location security staff better vast major...</td>\n",
              "    </tr>\n",
              "    <tr>\n",
              "      <th>19998</th>\n",
              "      <td>a1AoCyA9VE37XPa3eF5aQA</td>\n",
              "      <td>oClGUimXsTxxh4DvuKu26Q</td>\n",
              "      <td>this is the place I shop when in MT</td>\n",
              "      <td>4</td>\n",
              "      <td>0</td>\n",
              "      <td>7/31/2011</td>\n",
              "      <td>oClGUimXsTxxh4DvuKu26Q</td>\n",
              "      <td>21.0</td>\n",
              "      <td>105.0</td>\n",
              "      <td>0.0</td>\n",
              "      <td>place shop</td>\n",
              "    </tr>\n",
              "    <tr>\n",
              "      <th>19999</th>\n",
              "      <td>A1BR6SShT7PxPTKM96MPkg</td>\n",
              "      <td>OapLWhQI4_Gm32-nYbHmUA</td>\n",
              "      <td>This used to be the only way to get to Glacier...</td>\n",
              "      <td>4</td>\n",
              "      <td>4</td>\n",
              "      <td>5/14/2009</td>\n",
              "      <td>OapLWhQI4_Gm32-nYbHmUA</td>\n",
              "      <td>754.0</td>\n",
              "      <td>1693.0</td>\n",
              "      <td>0.0</td>\n",
              "      <td>used glacier point glacier point favourite spo...</td>\n",
              "    </tr>\n",
              "  </tbody>\n",
              "</table>\n",
              "<p>20000 rows × 11 columns</p>\n",
              "</div>"
            ],
            "text/plain": [
              "                     reviewID  ...                                       cleanContent\n",
              "0      ---2eJpQ2HAnRQRp2v7XLA  ...  came chicago business initially supposed stay ...\n",
              "1      --0gvJ0LlByoUsFi6x4eEQ  ...  still love place took menu deeply saddened sho...\n",
              "2      --1PwTt0AfyPG1pE7bB6Nw  ...  alan best know knows outs loop holes smart whi...\n",
              "3      --87QVdPvgbDK3GeVxFRzg  ...  family using korean many many years going asia...\n",
              "4      --99ZJoVHP32iSd4i4nlZw  ...  hadnt grisantis since prehomecoming dinner hig...\n",
              "...                       ...  ...                                                ...\n",
              "19995  A18YXCahOIwmCJ1J8derdA  ...  best attributes place consistency around long ...\n",
              "19996  a1a-7V09z2AfspiQeBiBCw  ...  willowcreek decent option vegetariansvegans ha...\n",
              "19997  a1AIpxn2OXX48s9RTmVr7g  ...  rate location security staff better vast major...\n",
              "19998  a1AoCyA9VE37XPa3eF5aQA  ...                                         place shop\n",
              "19999  A1BR6SShT7PxPTKM96MPkg  ...  used glacier point glacier point favourite spo...\n",
              "\n",
              "[20000 rows x 11 columns]"
            ]
          },
          "metadata": {
            "tags": []
          },
          "execution_count": 29
        }
      ]
    },
    {
      "cell_type": "code",
      "metadata": {
        "id": "eQy46sMuS3LA"
      },
      "source": [
        "from sklearn.feature_extraction.text import TfidfVectorizer\r\n",
        "tfidfconverter = TfidfVectorizer(max_features=1000, min_df=5, max_df=0.7, stop_words=stopwords.words('english'))\r\n",
        "tfidf_matrix = tfidfconverter.fit_transform(df[\"cleanContent\"])"
      ],
      "execution_count": 30,
      "outputs": []
    },
    {
      "cell_type": "code",
      "metadata": {
        "colab": {
          "base_uri": "https://localhost:8080/"
        },
        "id": "HQS20F37UiRS",
        "outputId": "ae100b81-1dcb-4092-b340-e85bffd88b8c"
      },
      "source": [
        "print(len(tfidf_matrix.toarray()))\r\n"
      ],
      "execution_count": 31,
      "outputs": [
        {
          "output_type": "stream",
          "text": [
            "20000\n"
          ],
          "name": "stdout"
        }
      ]
    },
    {
      "cell_type": "code",
      "metadata": {
        "id": "8CVfZx19TXxK"
      },
      "source": [
        "from sklearn.metrics.pairwise import cosine_similarity\r\n",
        "cosineSim=[]\r\n",
        "for i in range(len(tfidf_matrix.toarray())):\r\n",
        "  sim=(cosine_similarity(tfidf_matrix[i], tfidf_matrix)).mean()\r\n",
        "  cosineSim.append(sim)"
      ],
      "execution_count": 32,
      "outputs": []
    },
    {
      "cell_type": "code",
      "metadata": {
        "colab": {
          "base_uri": "https://localhost:8080/",
          "height": 892
        },
        "id": "BNxOe7egbXm1",
        "outputId": "bb5bb054-7c20-4d83-9014-fcce6e19b827"
      },
      "source": [
        "list_of_rows = [list(row) for row in df.values]\r\n",
        "#print(len(cosineSim))\r\n",
        "links_count(df,\"reviewContent\",\"linksCount\")\r\n",
        "hashtags_count(df, \"reviewContent\", \"hashtagsCount\")\r\n",
        "user_mentions_count(df, \"reviewContent\", \"userMentionsCount\")\r\n",
        "numerics_count(df,\"reviewContent\",\"numericsCount\")\r\n",
        "clean(df, \"reviewContent\", \"cleanContent\")\r\n",
        "\r\n",
        "word_count(df, \"reviewContent\", \"wCount\")\r\n",
        "word_count(df, \"cleanContent\", \"wordCount\")\r\n",
        "\r\n"
      ],
      "execution_count": 40,
      "outputs": [
        {
          "output_type": "execute_result",
          "data": {
            "text/html": [
              "<div>\n",
              "<style scoped>\n",
              "    .dataframe tbody tr th:only-of-type {\n",
              "        vertical-align: middle;\n",
              "    }\n",
              "\n",
              "    .dataframe tbody tr th {\n",
              "        vertical-align: top;\n",
              "    }\n",
              "\n",
              "    .dataframe thead th {\n",
              "        text-align: right;\n",
              "    }\n",
              "</style>\n",
              "<table border=\"1\" class=\"dataframe\">\n",
              "  <thead>\n",
              "    <tr style=\"text-align: right;\">\n",
              "      <th></th>\n",
              "      <th>reviewID</th>\n",
              "      <th>reviewerID</th>\n",
              "      <th>reviewContent</th>\n",
              "      <th>rating</th>\n",
              "      <th>usefulCount</th>\n",
              "      <th>date</th>\n",
              "      <th>reviewerID.1</th>\n",
              "      <th>firstCount</th>\n",
              "      <th>reviewCount</th>\n",
              "      <th>Filtered</th>\n",
              "      <th>cleanContent</th>\n",
              "      <th>linksCount</th>\n",
              "      <th>hashtagsCount</th>\n",
              "      <th>userMentionsCount</th>\n",
              "      <th>numericsCount</th>\n",
              "      <th>wordCount</th>\n",
              "    </tr>\n",
              "  </thead>\n",
              "  <tbody>\n",
              "    <tr>\n",
              "      <th>0</th>\n",
              "      <td>---2eJpQ2HAnRQRp2v7XLA</td>\n",
              "      <td>-ORdirlxcallT7dzlZlW2A</td>\n",
              "      <td>I came to Chicago on business and was initiall...</td>\n",
              "      <td>5</td>\n",
              "      <td>5</td>\n",
              "      <td>9/28/2011</td>\n",
              "      <td>-ORdirlxcallT7dzlZlW2A</td>\n",
              "      <td>0.0</td>\n",
              "      <td>2.0</td>\n",
              "      <td>0.0</td>\n",
              "      <td>came chicago business initially supposed stay ...</td>\n",
              "      <td>0</td>\n",
              "      <td>0</td>\n",
              "      <td>0</td>\n",
              "      <td>0</td>\n",
              "      <td>70</td>\n",
              "    </tr>\n",
              "    <tr>\n",
              "      <th>1</th>\n",
              "      <td>--0gvJ0LlByoUsFi6x4eEQ</td>\n",
              "      <td>biZ0fIcZp7B-KBJ3EGcX7Q</td>\n",
              "      <td>I still love this place but the took Mu Shu of...</td>\n",
              "      <td>5</td>\n",
              "      <td>2</td>\n",
              "      <td>Update - 5/12/2009</td>\n",
              "      <td>biZ0fIcZp7B-KBJ3EGcX7Q</td>\n",
              "      <td>268.0</td>\n",
              "      <td>543.0</td>\n",
              "      <td>0.0</td>\n",
              "      <td>still love place took menu deeply saddened sho...</td>\n",
              "      <td>0</td>\n",
              "      <td>0</td>\n",
              "      <td>0</td>\n",
              "      <td>0</td>\n",
              "      <td>10</td>\n",
              "    </tr>\n",
              "    <tr>\n",
              "      <th>2</th>\n",
              "      <td>--1PwTt0AfyPG1pE7bB6Nw</td>\n",
              "      <td>pW9LvtC-hZ0PRAOUn7aZ2A</td>\n",
              "      <td>Alan is the best CPA that I know. He knows all...</td>\n",
              "      <td>5</td>\n",
              "      <td>0</td>\n",
              "      <td>8/15/2006</td>\n",
              "      <td>pW9LvtC-hZ0PRAOUn7aZ2A</td>\n",
              "      <td>834.0</td>\n",
              "      <td>1463.0</td>\n",
              "      <td>0.0</td>\n",
              "      <td>alan best know knows outs loop holes smart whi...</td>\n",
              "      <td>0</td>\n",
              "      <td>0</td>\n",
              "      <td>0</td>\n",
              "      <td>0</td>\n",
              "      <td>28</td>\n",
              "    </tr>\n",
              "    <tr>\n",
              "      <th>3</th>\n",
              "      <td>--87QVdPvgbDK3GeVxFRzg</td>\n",
              "      <td>92rtlWxS2aOngzkKhi-OxQ</td>\n",
              "      <td>My family has been using Korean Air for many m...</td>\n",
              "      <td>4</td>\n",
              "      <td>0</td>\n",
              "      <td>7/28/2012</td>\n",
              "      <td>92rtlWxS2aOngzkKhi-OxQ</td>\n",
              "      <td>43.0</td>\n",
              "      <td>158.0</td>\n",
              "      <td>0.0</td>\n",
              "      <td>family using korean many many years going asia...</td>\n",
              "      <td>0</td>\n",
              "      <td>0</td>\n",
              "      <td>0</td>\n",
              "      <td>0</td>\n",
              "      <td>62</td>\n",
              "    </tr>\n",
              "    <tr>\n",
              "      <th>4</th>\n",
              "      <td>--99ZJoVHP32iSd4i4nlZw</td>\n",
              "      <td>Egu4qSFR56EhGuTHZTaVjA</td>\n",
              "      <td>I hadn't been to Grisanti's since a pre-homeco...</td>\n",
              "      <td>3</td>\n",
              "      <td>0</td>\n",
              "      <td>1/28/2010</td>\n",
              "      <td>Egu4qSFR56EhGuTHZTaVjA</td>\n",
              "      <td>133.0</td>\n",
              "      <td>725.0</td>\n",
              "      <td>0.0</td>\n",
              "      <td>hadnt grisantis since prehomecoming dinner hig...</td>\n",
              "      <td>0</td>\n",
              "      <td>0</td>\n",
              "      <td>0</td>\n",
              "      <td>0</td>\n",
              "      <td>73</td>\n",
              "    </tr>\n",
              "    <tr>\n",
              "      <th>...</th>\n",
              "      <td>...</td>\n",
              "      <td>...</td>\n",
              "      <td>...</td>\n",
              "      <td>...</td>\n",
              "      <td>...</td>\n",
              "      <td>...</td>\n",
              "      <td>...</td>\n",
              "      <td>...</td>\n",
              "      <td>...</td>\n",
              "      <td>...</td>\n",
              "      <td>...</td>\n",
              "      <td>...</td>\n",
              "      <td>...</td>\n",
              "      <td>...</td>\n",
              "      <td>...</td>\n",
              "      <td>...</td>\n",
              "    </tr>\n",
              "    <tr>\n",
              "      <th>19995</th>\n",
              "      <td>A18YXCahOIwmCJ1J8derdA</td>\n",
              "      <td>KYtrBL_Cp1CudlGC1XiiSA</td>\n",
              "      <td>I have to say that one of the best attributes ...</td>\n",
              "      <td>4</td>\n",
              "      <td>0</td>\n",
              "      <td>4/24/2010</td>\n",
              "      <td>KYtrBL_Cp1CudlGC1XiiSA</td>\n",
              "      <td>174.0</td>\n",
              "      <td>1022.0</td>\n",
              "      <td>0.0</td>\n",
              "      <td>best attributes place consistency around long ...</td>\n",
              "      <td>0</td>\n",
              "      <td>0</td>\n",
              "      <td>0</td>\n",
              "      <td>0</td>\n",
              "      <td>59</td>\n",
              "    </tr>\n",
              "    <tr>\n",
              "      <th>19996</th>\n",
              "      <td>a1a-7V09z2AfspiQeBiBCw</td>\n",
              "      <td>5Y5KbsI5buMcNh2hTFaRpA</td>\n",
              "      <td>Willowcreek is a decent option for vegetarians...</td>\n",
              "      <td>3</td>\n",
              "      <td>1</td>\n",
              "      <td>7/7/2011</td>\n",
              "      <td>5Y5KbsI5buMcNh2hTFaRpA</td>\n",
              "      <td>94.0</td>\n",
              "      <td>580.0</td>\n",
              "      <td>0.0</td>\n",
              "      <td>willowcreek decent option vegetariansvegans ha...</td>\n",
              "      <td>0</td>\n",
              "      <td>0</td>\n",
              "      <td>0</td>\n",
              "      <td>0</td>\n",
              "      <td>61</td>\n",
              "    </tr>\n",
              "    <tr>\n",
              "      <th>19997</th>\n",
              "      <td>a1AIpxn2OXX48s9RTmVr7g</td>\n",
              "      <td>wwNs_kMiVEn8V61uqP3ZzA</td>\n",
              "      <td>Rate location security and staff were better t...</td>\n",
              "      <td>4</td>\n",
              "      <td>3</td>\n",
              "      <td>7/18/2008</td>\n",
              "      <td>wwNs_kMiVEn8V61uqP3ZzA</td>\n",
              "      <td>5.0</td>\n",
              "      <td>12.0</td>\n",
              "      <td>0.0</td>\n",
              "      <td>rate location security staff better vast major...</td>\n",
              "      <td>0</td>\n",
              "      <td>0</td>\n",
              "      <td>0</td>\n",
              "      <td>1</td>\n",
              "      <td>63</td>\n",
              "    </tr>\n",
              "    <tr>\n",
              "      <th>19998</th>\n",
              "      <td>a1AoCyA9VE37XPa3eF5aQA</td>\n",
              "      <td>oClGUimXsTxxh4DvuKu26Q</td>\n",
              "      <td>this is the place I shop when in MT</td>\n",
              "      <td>4</td>\n",
              "      <td>0</td>\n",
              "      <td>7/31/2011</td>\n",
              "      <td>oClGUimXsTxxh4DvuKu26Q</td>\n",
              "      <td>21.0</td>\n",
              "      <td>105.0</td>\n",
              "      <td>0.0</td>\n",
              "      <td>place shop</td>\n",
              "      <td>0</td>\n",
              "      <td>0</td>\n",
              "      <td>0</td>\n",
              "      <td>0</td>\n",
              "      <td>2</td>\n",
              "    </tr>\n",
              "    <tr>\n",
              "      <th>19999</th>\n",
              "      <td>A1BR6SShT7PxPTKM96MPkg</td>\n",
              "      <td>OapLWhQI4_Gm32-nYbHmUA</td>\n",
              "      <td>This used to be the only way to get to Glacier...</td>\n",
              "      <td>4</td>\n",
              "      <td>4</td>\n",
              "      <td>5/14/2009</td>\n",
              "      <td>OapLWhQI4_Gm32-nYbHmUA</td>\n",
              "      <td>754.0</td>\n",
              "      <td>1693.0</td>\n",
              "      <td>0.0</td>\n",
              "      <td>used glacier point glacier point favourite spo...</td>\n",
              "      <td>0</td>\n",
              "      <td>0</td>\n",
              "      <td>0</td>\n",
              "      <td>2</td>\n",
              "      <td>41</td>\n",
              "    </tr>\n",
              "  </tbody>\n",
              "</table>\n",
              "<p>20000 rows × 16 columns</p>\n",
              "</div>"
            ],
            "text/plain": [
              "                     reviewID              reviewerID  ... numericsCount wordCount\n",
              "0      ---2eJpQ2HAnRQRp2v7XLA  -ORdirlxcallT7dzlZlW2A  ...             0        70\n",
              "1      --0gvJ0LlByoUsFi6x4eEQ  biZ0fIcZp7B-KBJ3EGcX7Q  ...             0        10\n",
              "2      --1PwTt0AfyPG1pE7bB6Nw  pW9LvtC-hZ0PRAOUn7aZ2A  ...             0        28\n",
              "3      --87QVdPvgbDK3GeVxFRzg  92rtlWxS2aOngzkKhi-OxQ  ...             0        62\n",
              "4      --99ZJoVHP32iSd4i4nlZw  Egu4qSFR56EhGuTHZTaVjA  ...             0        73\n",
              "...                       ...                     ...  ...           ...       ...\n",
              "19995  A18YXCahOIwmCJ1J8derdA  KYtrBL_Cp1CudlGC1XiiSA  ...             0        59\n",
              "19996  a1a-7V09z2AfspiQeBiBCw  5Y5KbsI5buMcNh2hTFaRpA  ...             0        61\n",
              "19997  a1AIpxn2OXX48s9RTmVr7g  wwNs_kMiVEn8V61uqP3ZzA  ...             1        63\n",
              "19998  a1AoCyA9VE37XPa3eF5aQA  oClGUimXsTxxh4DvuKu26Q  ...             0         2\n",
              "19999  A1BR6SShT7PxPTKM96MPkg  OapLWhQI4_Gm32-nYbHmUA  ...             2        41\n",
              "\n",
              "[20000 rows x 16 columns]"
            ]
          },
          "metadata": {
            "tags": []
          },
          "execution_count": 40
        }
      ]
    },
    {
      "cell_type": "code",
      "metadata": {
        "colab": {
          "base_uri": "https://localhost:8080/",
          "height": 195
        },
        "id": "whyJFWsNeUO8",
        "outputId": "c9e4d7dc-b4d4-4079-84ee-f69d2d7e0450"
      },
      "source": [
        "dateList=[]\r\n",
        "for word in list_of_rows:\r\n",
        "    if \"Update\" in str(word[5]):\r\n",
        "        dateList.append(1)\r\n",
        "    else:\r\n",
        "        dateList.append(0)\r\n",
        "\r\n",
        "extremeRating=[]\r\n",
        "for rating in list(df[\"rating\"]):\r\n",
        "    if rating == 5 or rating == 1:\r\n",
        "        extremeRating.append(1)\r\n",
        "    else:\r\n",
        "        extremeRating.append(0)\r\n",
        "\r\n",
        "reviewLengthSpam=[]\r\n",
        "for c in df['wCount']:\r\n",
        "    if c>150:\r\n",
        "        reviewLengthSpam.append(0)\r\n",
        "    else:\r\n",
        "        reviewLengthSpam.append(1)\r\n",
        "\r\n",
        "\r\n",
        "\r\n",
        "dict = {'UpdateOrNot': dateList,\r\n",
        "       'NumberOfURLs': list(df[\"linksCount\"]),\r\n",
        "       'NumberOfnumerics': list(df[\"numericsCount\"]),\r\n",
        "       'extremeRating':extremeRating,\r\n",
        "       'firstCount':list(df[\"firstCount\"]),\r\n",
        "       'reviewLengthSpam':reviewLengthSpam,\r\n",
        "       'wordCount',list(df['wordCount']),\r\n",
        "       'reviewCount',list(df['reviewCount']),\r\n",
        "       'usefulCount':list(df['usefulCount']),\r\n",
        "        'cosineSimilarty':cosineSim,\r\n",
        "       'Filtered':list(df[\"Filtered\"])\r\n",
        "        }\r\n",
        "\r\n",
        "\r\n",
        "df1 = pd.DataFrame(dict)\r\n",
        "df1.to_csv('Data.csv',index=False)\r\n",
        "df1.head()"
      ],
      "execution_count": 42,
      "outputs": [
        {
          "output_type": "execute_result",
          "data": {
            "text/html": [
              "<div>\n",
              "<style scoped>\n",
              "    .dataframe tbody tr th:only-of-type {\n",
              "        vertical-align: middle;\n",
              "    }\n",
              "\n",
              "    .dataframe tbody tr th {\n",
              "        vertical-align: top;\n",
              "    }\n",
              "\n",
              "    .dataframe thead th {\n",
              "        text-align: right;\n",
              "    }\n",
              "</style>\n",
              "<table border=\"1\" class=\"dataframe\">\n",
              "  <thead>\n",
              "    <tr style=\"text-align: right;\">\n",
              "      <th></th>\n",
              "      <th>UpdateOrNot</th>\n",
              "      <th>NumberOfURLs</th>\n",
              "      <th>NumberOfnumerics</th>\n",
              "      <th>extremeRating</th>\n",
              "      <th>firstCount</th>\n",
              "      <th>reviewLengthSpam</th>\n",
              "      <th>usefulCount</th>\n",
              "      <th>cosineSimilarty</th>\n",
              "      <th>Filtered</th>\n",
              "    </tr>\n",
              "  </thead>\n",
              "  <tbody>\n",
              "    <tr>\n",
              "      <th>0</th>\n",
              "      <td>0</td>\n",
              "      <td>0</td>\n",
              "      <td>0</td>\n",
              "      <td>0</td>\n",
              "      <td>0.0</td>\n",
              "      <td>1</td>\n",
              "      <td>5</td>\n",
              "      <td>0.037917</td>\n",
              "      <td>0.0</td>\n",
              "    </tr>\n",
              "    <tr>\n",
              "      <th>1</th>\n",
              "      <td>1</td>\n",
              "      <td>0</td>\n",
              "      <td>0</td>\n",
              "      <td>0</td>\n",
              "      <td>268.0</td>\n",
              "      <td>0</td>\n",
              "      <td>2</td>\n",
              "      <td>0.031031</td>\n",
              "      <td>0.0</td>\n",
              "    </tr>\n",
              "    <tr>\n",
              "      <th>2</th>\n",
              "      <td>0</td>\n",
              "      <td>0</td>\n",
              "      <td>0</td>\n",
              "      <td>0</td>\n",
              "      <td>834.0</td>\n",
              "      <td>0</td>\n",
              "      <td>0</td>\n",
              "      <td>0.021429</td>\n",
              "      <td>0.0</td>\n",
              "    </tr>\n",
              "    <tr>\n",
              "      <th>3</th>\n",
              "      <td>0</td>\n",
              "      <td>0</td>\n",
              "      <td>0</td>\n",
              "      <td>0</td>\n",
              "      <td>43.0</td>\n",
              "      <td>0</td>\n",
              "      <td>0</td>\n",
              "      <td>0.042153</td>\n",
              "      <td>0.0</td>\n",
              "    </tr>\n",
              "    <tr>\n",
              "      <th>4</th>\n",
              "      <td>0</td>\n",
              "      <td>0</td>\n",
              "      <td>0</td>\n",
              "      <td>0</td>\n",
              "      <td>133.0</td>\n",
              "      <td>0</td>\n",
              "      <td>0</td>\n",
              "      <td>0.042694</td>\n",
              "      <td>0.0</td>\n",
              "    </tr>\n",
              "  </tbody>\n",
              "</table>\n",
              "</div>"
            ],
            "text/plain": [
              "   UpdateOrNot  NumberOfURLs  ...  cosineSimilarty  Filtered\n",
              "0            0             0  ...         0.037917       0.0\n",
              "1            1             0  ...         0.031031       0.0\n",
              "2            0             0  ...         0.021429       0.0\n",
              "3            0             0  ...         0.042153       0.0\n",
              "4            0             0  ...         0.042694       0.0\n",
              "\n",
              "[5 rows x 9 columns]"
            ]
          },
          "metadata": {
            "tags": []
          },
          "execution_count": 42
        }
      ]
    },
    {
      "cell_type": "code",
      "metadata": {
        "colab": {
          "base_uri": "https://localhost:8080/"
        },
        "id": "jvEDnTCidHvt",
        "outputId": "b79ef448-df0a-470b-cda3-05c7b931d249"
      },
      "source": [
        "df1.info()\r\n",
        "df1['Filtered'].value_counts()"
      ],
      "execution_count": 45,
      "outputs": [
        {
          "output_type": "stream",
          "text": [
            "<class 'pandas.core.frame.DataFrame'>\n",
            "RangeIndex: 20000 entries, 0 to 19999\n",
            "Data columns (total 9 columns):\n",
            " #   Column            Non-Null Count  Dtype  \n",
            "---  ------            --------------  -----  \n",
            " 0   UpdateOrNot       20000 non-null  int64  \n",
            " 1   NumberOfURLs      20000 non-null  int64  \n",
            " 2   NumberOfnumerics  20000 non-null  int64  \n",
            " 3   extremeRating     20000 non-null  int64  \n",
            " 4   firstCount        20000 non-null  float64\n",
            " 5   reviewLengthSpam  20000 non-null  int64  \n",
            " 6   usefulCount       20000 non-null  object \n",
            " 7   cosineSimilarty   20000 non-null  float64\n",
            " 8   Filtered          20000 non-null  float64\n",
            "dtypes: float64(3), int64(5), object(1)\n",
            "memory usage: 1.4+ MB\n"
          ],
          "name": "stdout"
        },
        {
          "output_type": "execute_result",
          "data": {
            "text/plain": [
              "0.0    16671\n",
              "1.0     3329\n",
              "Name: Filtered, dtype: int64"
            ]
          },
          "metadata": {
            "tags": []
          },
          "execution_count": 45
        }
      ]
    },
    {
      "cell_type": "code",
      "metadata": {
        "id": "kJspnBuxdkZK"
      },
      "source": [
        "df1.replace([np.inf, -np.inf], np.nan, inplace=True)\r\n",
        "df1= df1.apply(lambda x: pd.to_numeric(x, errors='coerce')).dropna().astype(int)"
      ],
      "execution_count": 46,
      "outputs": []
    },
    {
      "cell_type": "code",
      "metadata": {
        "id": "jZjHksgleeVj"
      },
      "source": [
        "X = df1.drop('Filtered', axis=1).astype(int, errors='ignore')\r\n",
        "y = df1['Filtered'].astype(int, errors='ignore')"
      ],
      "execution_count": 63,
      "outputs": []
    },
    {
      "cell_type": "code",
      "metadata": {
        "colab": {
          "base_uri": "https://localhost:8080/"
        },
        "id": "j_D-Fkt2plnJ",
        "outputId": "b6d1d880-bc18-411a-e68c-d09a3718ac0f"
      },
      "source": [
        "from sklearn import preprocessing\r\n",
        "from imblearn.over_sampling import SMOTE\r\n",
        "\r\n",
        "scaler = preprocessing.StandardScaler(with_mean=False)\r\n",
        "X = scaler.fit_transform(X)\r\n",
        "sm = SMOTE(random_state=27, ratio=1.0)\r\n",
        "X,y= sm.fit_sample(X,y)\r\n",
        "print(Counter(y))\r\n",
        "\r\n"
      ],
      "execution_count": 76,
      "outputs": [
        {
          "output_type": "stream",
          "text": [
            "Counter({0: 16671, 1: 16671})\n"
          ],
          "name": "stdout"
        },
        {
          "output_type": "stream",
          "text": [
            "/usr/local/lib/python3.6/dist-packages/sklearn/utils/deprecation.py:87: FutureWarning: Function safe_indexing is deprecated; safe_indexing is deprecated in version 0.22 and will be removed in version 0.24.\n",
            "  warnings.warn(msg, category=FutureWarning)\n"
          ],
          "name": "stderr"
        }
      ]
    },
    {
      "cell_type": "code",
      "metadata": {
        "id": "v2r4BBT4dvu1"
      },
      "source": [
        "from sklearn.model_selection import train_test_split\r\n",
        "X_train, X_test, y_train, y_test = train_test_split(X, y, test_size=0.30)\r\n"
      ],
      "execution_count": 78,
      "outputs": []
    },
    {
      "cell_type": "code",
      "metadata": {
        "colab": {
          "base_uri": "https://localhost:8080/"
        },
        "id": "KLyxyJRXd-rW",
        "outputId": "a76bc9ed-76b1-419e-e101-0f97edfbf447"
      },
      "source": [
        "# from xgboost import XGBClassifier\r\n",
        "# import xgboost\r\n",
        "# classifier =xgboost.XGBClassifier()\r\n",
        "# classifier.fit(X_train, y_train)\r\n",
        "# y_pred = classifier.predict(X_test)\r\n",
        "# print(\"XGBoost :\")\r\n",
        "# print(confusion_matrix(y_test, y_pred))\r\n",
        "# #print(classification_report(y_test, y_pred))\r\n",
        "# print(\"Accuracy:\",accuracy_score(y_test, y_pred)*100)\r\n",
        "# print(\"precision_score:\",precision_score(y_test, y_pred)*100)\r\n",
        "# print(\"recall_score:\",recall_score(y_test, y_pred)*100)\r\n",
        "# print(\"f1_score:\",f1_score(y_test, y_pred)*100)\r\n",
        "\r\n",
        "\r\n"
      ],
      "execution_count": 79,
      "outputs": [
        {
          "output_type": "stream",
          "text": [
            "XGBoost :\n",
            "[[4437  540]\n",
            " [2785 2241]]\n",
            "Accuracy: 66.75997200839748\n",
            "precision_score: 80.58252427184466\n",
            "recall_score: 44.58814166335058\n",
            "f1_score: 57.41001665172282\n"
          ],
          "name": "stdout"
        }
      ]
    },
    {
      "cell_type": "code",
      "metadata": {
        "id": "tHxW3BLKsi2I",
        "colab": {
          "base_uri": "https://localhost:8080/"
        },
        "outputId": "018449e9-8dd3-4640-928e-535384872067"
      },
      "source": [
        "import xgboost\r\n",
        "from sklearn.model_selection import StratifiedKFold\r\n",
        "from sklearn.model_selection import cross_val_score\r\n",
        "\r\n",
        "model = xgboost.XGBClassifier(subsample=0.85,learning_rate=0.3,max_depth= 95,max_features=1,min_samples_leaf=3,min_samples_split= 3,n_estimators= 1000)\r\n",
        "kfold = StratifiedKFold(n_splits=10,random_state=10,shuffle=True)\r\n",
        "for score in [\"accuracy\", \"precision\", \"recall\",\"f1\"]:\r\n",
        "  print( score,\" : \",cross_val_score(model, X,y,scoring=score, cv=kfold).mean())"
      ],
      "execution_count": 81,
      "outputs": [
        {
          "output_type": "stream",
          "text": [
            "accuracy  :  0.7996818387446949\n",
            "precision  :  0.8053501535595192\n",
            "recall  :  0.7904743152089007\n",
            "f1  :  0.7977895359331253\n"
          ],
          "name": "stdout"
        }
      ]
    },
    {
      "cell_type": "code",
      "metadata": {
        "id": "KoFhBtlrqWwx"
      },
      "source": [
        ""
      ],
      "execution_count": null,
      "outputs": []
    }
  ]
}