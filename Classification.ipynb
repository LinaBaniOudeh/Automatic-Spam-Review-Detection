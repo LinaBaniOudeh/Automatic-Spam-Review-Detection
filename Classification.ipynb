{
  "nbformat": 4,
  "nbformat_minor": 0,
  "metadata": {
    "colab": {
      "name": "Classification.ipynb",
      "provenance": [],
      "collapsed_sections": [],
      "toc_visible": true,
      "mount_file_id": "1W6sB3VIMuS_7Iq6XrLO_on1w9qVeu5-K",
      "authorship_tag": "ABX9TyNE4Mw4N6z1WKFfYYS9yv+T",
      "include_colab_link": true
    },
    "kernelspec": {
      "name": "python3",
      "display_name": "Python 3"
    }
  },
  "cells": [
    {
      "cell_type": "markdown",
      "metadata": {
        "id": "view-in-github",
        "colab_type": "text"
      },
      "source": [
        "<a href=\"https://colab.research.google.com/github/RaghadQadah/Automatic-Spam-Review-Detection/blob/main/Classification.ipynb\" target=\"_parent\"><img src=\"https://colab.research.google.com/assets/colab-badge.svg\" alt=\"Open In Colab\"/></a>"
      ]
    },
    {
      "cell_type": "code",
      "metadata": {
        "colab": {
          "base_uri": "https://localhost:8080/"
        },
        "id": "04tIH3MCUvDD",
        "outputId": "90442542-ad61-4da7-9616-fd0d4efe5aac"
      },
      "source": [
        "from google.colab import drive\r\n",
        "drive.mount('/content/drive')"
      ],
      "execution_count": null,
      "outputs": [
        {
          "output_type": "stream",
          "text": [
            "Drive already mounted at /content/drive; to attempt to forcibly remount, call drive.mount(\"/content/drive\", force_remount=True).\n"
          ],
          "name": "stdout"
        }
      ]
    },
    {
      "cell_type": "code",
      "metadata": {
        "id": "UPkXvX0RU2UC"
      },
      "source": [
        "import pandas as pd\r\n",
        "import numpy as np\r\n",
        "from sklearn.metrics import classification_report, confusion_matrix\r\n",
        "from nltk.stem.porter import PorterStemmer\r\n",
        "from sklearn.metrics import classification_report, confusion_matrix,accuracy_score,precision_score,recall_score\r\n",
        "\r\n"
      ],
      "execution_count": null,
      "outputs": []
    },
    {
      "cell_type": "markdown",
      "metadata": {
        "id": "V5kSe-0vZhaE"
      },
      "source": [
        "**Read** **Data**\r\n"
      ]
    },
    {
      "cell_type": "code",
      "metadata": {
        "colab": {
          "base_uri": "https://localhost:8080/"
        },
        "id": "csQqtZg8ZZJ6",
        "outputId": "9b299d6e-5eb3-4bc9-878b-a6fd3d30a6bf"
      },
      "source": [
        "dataset =pd.read_csv(\"drive/My Drive/Data.csv\")\r\n",
        "dataset.info()\r\n",
        "dataset.replace([np.inf, -np.inf], np.nan, inplace=True)\r\n",
        "dataset= dataset.apply(lambda x: pd.to_numeric(x, errors='coerce')).dropna().astype(int)\r\n",
        "\r\n",
        "X = dataset.drop('Filtered', axis=1).astype(int, errors='ignore')\r\n",
        "y = dataset['Filtered'].astype(int, errors='ignore')\r\n",
        "\r\n",
        "dataset['Filtered'].value_counts()"
      ],
      "execution_count": null,
      "outputs": [
        {
          "output_type": "stream",
          "text": [
            "<class 'pandas.core.frame.DataFrame'>\n",
            "RangeIndex: 115477 entries, 0 to 115476\n",
            "Data columns (total 8 columns):\n",
            " #   Column            Non-Null Count   Dtype  \n",
            "---  ------            --------------   -----  \n",
            " 0   UpdateOrNot       115477 non-null  int64  \n",
            " 1   NumberOfURLs      115477 non-null  int64  \n",
            " 2   NumberOfnumerics  115477 non-null  int64  \n",
            " 3   extremeRating     115477 non-null  int64  \n",
            " 4   firstCount        115462 non-null  float64\n",
            " 5   reviewLengthSpam  115477 non-null  int64  \n",
            " 6   usefulCount       115476 non-null  object \n",
            " 7   Filtered          115461 non-null  float64\n",
            "dtypes: float64(2), int64(5), object(1)\n",
            "memory usage: 7.0+ MB\n"
          ],
          "name": "stdout"
        },
        {
          "output_type": "stream",
          "text": [
            "/usr/local/lib/python3.6/dist-packages/IPython/core/interactiveshell.py:2718: DtypeWarning: Columns (6) have mixed types.Specify dtype option on import or set low_memory=False.\n",
            "  interactivity=interactivity, compiler=compiler, result=result)\n"
          ],
          "name": "stderr"
        },
        {
          "output_type": "execute_result",
          "data": {
            "text/plain": [
              "0    95698\n",
              "1    19763\n",
              "Name: Filtered, dtype: int64"
            ]
          },
          "metadata": {
            "tags": []
          },
          "execution_count": 6
        }
      ]
    },
    {
      "cell_type": "code",
      "metadata": {
        "colab": {
          "base_uri": "https://localhost:8080/"
        },
        "id": "j_D-Fkt2plnJ",
        "outputId": "eaa23e3d-bb57-4c6f-ddfe-96988a98b9f2"
      },
      "source": [
        "\r\n",
        "\r\n",
        "from collections import Counter\r\n",
        "from sklearn.datasets import make_classification\r\n",
        "from imblearn.over_sampling import RandomOverSampler\r\n",
        "\r\n",
        "df = dataset\r\n",
        "oversample = RandomOverSampler(sampling_strategy='minority')\r\n",
        "oversample = RandomOverSampler(sampling_strategy=0.25)\r\n",
        "X_over, y_over = oversample.fit_resample(X, y)\r\n",
        "print(Counter(y_over))\r\n",
        "\r\n",
        "#df=df.drop(['index'],axis=1)\r\n",
        "#df['Filtered'].value_counts()"
      ],
      "execution_count": null,
      "outputs": [
        {
          "output_type": "stream",
          "text": [
            "Counter({0: 95698, 1: 23924})\n"
          ],
          "name": "stdout"
        },
        {
          "output_type": "stream",
          "text": [
            "/usr/local/lib/python3.6/dist-packages/sklearn/externals/six.py:31: FutureWarning: The module is deprecated in version 0.21 and will be removed in version 0.23 since we've dropped support for Python 2.7. Please rely on the official version of six (https://pypi.org/project/six/).\n",
            "  \"(https://pypi.org/project/six/).\", FutureWarning)\n",
            "/usr/local/lib/python3.6/dist-packages/sklearn/utils/deprecation.py:144: FutureWarning: The sklearn.neighbors.base module is  deprecated in version 0.22 and will be removed in version 0.24. The corresponding classes / functions should instead be imported from sklearn.neighbors. Anything that cannot be imported from sklearn.neighbors is now part of the private API.\n",
            "  warnings.warn(message, FutureWarning)\n",
            "/usr/local/lib/python3.6/dist-packages/sklearn/utils/deprecation.py:87: FutureWarning: Function safe_indexing is deprecated; safe_indexing is deprecated in version 0.22 and will be removed in version 0.24.\n",
            "  warnings.warn(msg, category=FutureWarning)\n"
          ],
          "name": "stderr"
        }
      ]
    },
    {
      "cell_type": "code",
      "metadata": {
        "id": "9gi6zROriumw"
      },
      "source": [
        "\r\n"
      ],
      "execution_count": null,
      "outputs": []
    },
    {
      "cell_type": "markdown",
      "metadata": {
        "id": "jv0mS9yWZv7k"
      },
      "source": [
        "**split data**"
      ]
    },
    {
      "cell_type": "code",
      "metadata": {
        "id": "eYqMwsDVZ1Dr"
      },
      "source": [
        "from sklearn.model_selection import train_test_split\r\n",
        "X_train, X_test, y_train, y_test = train_test_split(X_over, y_over, test_size=0.20)\r\n",
        "#X_test.fillna(X_test.mean())\r\n"
      ],
      "execution_count": null,
      "outputs": []
    },
    {
      "cell_type": "markdown",
      "metadata": {
        "id": "V9H7HnMYaG1v"
      },
      "source": [
        "**Decision Tree**"
      ]
    },
    {
      "cell_type": "code",
      "metadata": {
        "colab": {
          "base_uri": "https://localhost:8080/"
        },
        "id": "T8MUGploaIYd",
        "outputId": "8edaac6a-dda0-4c2c-8615-9c7dcb1d385f"
      },
      "source": [
        "from sklearn.tree import DecisionTreeClassifier\r\n",
        "classifier = DecisionTreeClassifier()\r\n",
        "classifier.fit(X_train, y_train)\r\n",
        "y_pred = classifier.predict(X_test)\r\n",
        "print(\"Decision Tree:\")\r\n",
        "print(confusion_matrix(y_test, y_pred))\r\n",
        "print(classification_report(y_test, y_pred))\r\n",
        "print(\"Accuracy:\",accuracy_score(y_test, y_pred)*100)\r\n",
        "# print(\"precision_score:\",precision_score(y_test, y_pred)*100)\r\n",
        "# print(\"recall_score:\",recall_score(y_test, y_pred)*100)\r\n"
      ],
      "execution_count": null,
      "outputs": [
        {
          "output_type": "stream",
          "text": [
            "Decision Tree:\n",
            "[[18514   582]\n",
            " [ 3667  1162]]\n",
            "              precision    recall  f1-score   support\n",
            "\n",
            "           0       0.83      0.97      0.90     19096\n",
            "           1       0.67      0.24      0.35      4829\n",
            "\n",
            "    accuracy                           0.82     23925\n",
            "   macro avg       0.75      0.61      0.63     23925\n",
            "weighted avg       0.80      0.82      0.79     23925\n",
            "\n",
            "Accuracy: 82.24033437826542\n"
          ],
          "name": "stdout"
        }
      ]
    },
    {
      "cell_type": "markdown",
      "metadata": {
        "id": "-4nuKfUZa9yc"
      },
      "source": [
        "### **naive bayes**\r\n",
        "\r\n"
      ]
    },
    {
      "cell_type": "code",
      "metadata": {
        "colab": {
          "base_uri": "https://localhost:8080/"
        },
        "id": "hD3ltobMbByK",
        "outputId": "88fb54ad-c299-497c-de5c-d660903bd24d"
      },
      "source": [
        "from sklearn.naive_bayes import GaussianNB\r\n",
        "model_nb = GaussianNB()\r\n",
        "model_nb.fit(X_train,y_train)\r\n",
        "y_pred=model_nb.predict(X_test)\r\n",
        "print(\"naive bayes :\")\r\n",
        "#print(confusion_matrix(y_test, y_pred))\r\n",
        "print(classification_report(y_test, y_pred))\r\n",
        "print(\"Accuracy:\",accuracy_score(y_test, y_pred)*100)\r\n",
        "# print(\"precision_score:\",precision_score(y_test, y_pred)*100)\r\n",
        "# print(\"recall_score:\",recall_score(y_test, y_pred)*100)\r\n"
      ],
      "execution_count": null,
      "outputs": [
        {
          "output_type": "stream",
          "text": [
            "naive bayes :\n",
            "              precision    recall  f1-score   support\n",
            "\n",
            "           0       0.84      0.78      0.81     19096\n",
            "           1       0.32      0.40      0.35      4829\n",
            "\n",
            "    accuracy                           0.70     23925\n",
            "   macro avg       0.58      0.59      0.58     23925\n",
            "weighted avg       0.73      0.70      0.72     23925\n",
            "\n",
            "Accuracy: 70.31974921630095\n"
          ],
          "name": "stdout"
        }
      ]
    },
    {
      "cell_type": "markdown",
      "metadata": {
        "id": "oduMaB-4bK3W"
      },
      "source": [
        "**neural_network**"
      ]
    },
    {
      "cell_type": "code",
      "metadata": {
        "colab": {
          "base_uri": "https://localhost:8080/"
        },
        "id": "rs0SZkCdbOps",
        "outputId": "878d25ea-19ce-4d46-e99b-989e2a0fda16"
      },
      "source": [
        "from sklearn.neural_network import MLPClassifier\r\n",
        "model_nn = MLPClassifier()\r\n",
        "model_nn.fit(X_train,y_train)\r\n",
        "y_pred=model_nn.predict(X_test)\r\n",
        "print(\"neural network:\")\r\n",
        "#print(confusion_matrix(y_test, y_pred))\r\n",
        "print(classification_report(y_test, y_pred))\r\n",
        "print(\"Accuracy:\",accuracy_score(y_test, y_pred)*100)\r\n",
        "# print(\"precision_score:\",precision_score(y_test, y_pred)*100)\r\n",
        "# print(\"recall_score:\",recall_score(y_test, y_pred)*100)\r\n"
      ],
      "execution_count": null,
      "outputs": [
        {
          "output_type": "stream",
          "text": [
            "neural network:\n",
            "              precision    recall  f1-score   support\n",
            "\n",
            "           0       0.83      0.98      0.90     19096\n",
            "           1       0.73      0.20      0.32      4829\n",
            "\n",
            "    accuracy                           0.82     23925\n",
            "   macro avg       0.78      0.59      0.61     23925\n",
            "weighted avg       0.81      0.82      0.78     23925\n",
            "\n",
            "Accuracy: 82.37826541274818\n"
          ],
          "name": "stdout"
        }
      ]
    },
    {
      "cell_type": "code",
      "metadata": {
        "id": "Q6zlDJ7j-746"
      },
      "source": [
        ""
      ],
      "execution_count": null,
      "outputs": []
    }
  ]
}