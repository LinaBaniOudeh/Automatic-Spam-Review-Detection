{
  "nbformat": 4,
  "nbformat_minor": 0,
  "metadata": {
    "colab": {
      "name": " SpamReviewDetection.ipynb",
      "provenance": [],
      "collapsed_sections": [],
      "toc_visible": true,
      "authorship_tag": "ABX9TyN/JFh/ZolIqFKv0CmWKb/d",
      "include_colab_link": true
    },
    "kernelspec": {
      "name": "python3",
      "display_name": "Python 3"
    }
  },
  "cells": [
    {
      "cell_type": "markdown",
      "metadata": {
        "id": "view-in-github",
        "colab_type": "text"
      },
      "source": [
        "<a href=\"https://colab.research.google.com/github/RaghadQadah/Automatic-Spam-Review-Detection/blob/main/SpamReviewDetection.ipynb\" target=\"_parent\"><img src=\"https://colab.research.google.com/assets/colab-badge.svg\" alt=\"Open In Colab\"/></a>"
      ]
    },
    {
      "cell_type": "code",
      "metadata": {
        "colab": {
          "base_uri": "https://localhost:8080/"
        },
        "id": "JdkS7Z5YSd6l",
        "outputId": "e7cbd40a-afd7-4209-8993-42d4faab74c0"
      },
      "source": [
        "from google.colab import drive\r\n",
        "drive.mount('/content/drive')"
      ],
      "execution_count": 1,
      "outputs": [
        {
          "output_type": "stream",
          "text": [
            "Mounted at /content/drive\n"
          ],
          "name": "stdout"
        }
      ]
    },
    {
      "cell_type": "markdown",
      "metadata": {
        "id": "qml49FL-5vHN"
      },
      "source": [
        "**import** **Library**"
      ]
    },
    {
      "cell_type": "code",
      "metadata": {
        "colab": {
          "base_uri": "https://localhost:8080/"
        },
        "id": "LHSz-XMISmkZ",
        "outputId": "2ce84c51-c6bb-4247-8850-7b0cc742b019"
      },
      "source": [
        "import numpy as np\r\n",
        "import matplotlib.pyplot as plt\r\n",
        "import pandas as pd\r\n",
        "import string\r\n",
        "import nltk\r\n",
        "nltk.download('stopwords')\r\n",
        "from nltk.corpus import stopwords\r\n",
        "stop = stopwords.words('english')"
      ],
      "execution_count": 181,
      "outputs": [
        {
          "output_type": "stream",
          "text": [
            "[nltk_data] Downloading package stopwords to /root/nltk_data...\n",
            "[nltk_data]   Package stopwords is already up-to-date!\n"
          ],
          "name": "stdout"
        }
      ]
    },
    {
      "cell_type": "markdown",
      "metadata": {
        "id": "Z5iIihKV7YMr"
      },
      "source": [
        "**functions to extract features from text**"
      ]
    },
    {
      "cell_type": "code",
      "metadata": {
        "id": "tovH2j-dS4BS"
      },
      "source": [
        "def clean(df, text, name):\r\n",
        "    df[name] = df[text].str.lower()\r\n",
        "    df[name] = df[name].str.replace('http\\S+|www.\\S+', '', case=False)\r\n",
        "    df[name] = df[name].str.replace('[^\\w\\s]', '')\r\n",
        "    df[name] = df[name].str.replace('\\d+', '')\r\n",
        "    df[name] = df[name].apply(lambda x: ' '.join([word for word in  str(x).split() if word not in (stop)]))\r\n",
        "    df[name] = df[name].apply(lambda x: \" \".join(x for x in  str(x).split() if len(x) > 3))\r\n",
        "    return df\r\n",
        "def word_count(df, text, name):\r\n",
        "    df[name] = df[text].apply(lambda x: len(str(x).split(\" \")))\r\n",
        "    return df\r\n",
        "\r\n",
        "def hashtags_count(df, text, name):\r\n",
        "    df[name] = df[text].apply(lambda x: len([x for x in  str(x).split() if x.startswith('#')]))\r\n",
        "    return df\r\n",
        "\r\n",
        "def user_mentions_count(df, text, name):\r\n",
        "    df[name] = df[text].apply(lambda x: len([x for x in  str(x).split() if x.startswith('@')]))\r\n",
        "    return df\r\n",
        "\r\n",
        "def numerics_count(df, text, name):\r\n",
        "    df[name] = df[text].apply(lambda x: len([x for x in  str(x).split() if x.isdigit()]))\r\n",
        "    return df\r\n",
        "\r\n",
        "def links_count(df, text, name):\r\n",
        "    df[name] = df[text].apply(\r\n",
        "        lambda x: len([x for x in  str(x).split() if x.startswith(('httP', 'HTTPS', 'https', 'www', 'WWW', 'HTTP', 'http')) ]))\r\n",
        "    return df"
      ],
      "execution_count": 182,
      "outputs": []
    },
    {
      "cell_type": "markdown",
      "metadata": {
        "id": "Y8tYrDrr7iBA"
      },
      "source": [
        "**Read From CSV File** \r\n",
        "\r\n"
      ]
    },
    {
      "cell_type": "code",
      "metadata": {
        "colab": {
          "base_uri": "https://localhost:8080/",
          "height": 892
        },
        "id": "UHV6XVBLSna5",
        "outputId": "85d6736b-7962-47ae-cf63-06c8d807fe74"
      },
      "source": [
        "df = pd.read_csv(\"drive/My Drive/Output.csv\",encoding='latin1',low_memory=False)\r\n",
        "df=df[:20000]\r\n",
        "\r\n",
        "# clean review Content\r\n",
        "clean(df, \"reviewContent\", \"cleanContent\")"
      ],
      "execution_count": 183,
      "outputs": [
        {
          "output_type": "execute_result",
          "data": {
            "text/html": [
              "<div>\n",
              "<style scoped>\n",
              "    .dataframe tbody tr th:only-of-type {\n",
              "        vertical-align: middle;\n",
              "    }\n",
              "\n",
              "    .dataframe tbody tr th {\n",
              "        vertical-align: top;\n",
              "    }\n",
              "\n",
              "    .dataframe thead th {\n",
              "        text-align: right;\n",
              "    }\n",
              "</style>\n",
              "<table border=\"1\" class=\"dataframe\">\n",
              "  <thead>\n",
              "    <tr style=\"text-align: right;\">\n",
              "      <th></th>\n",
              "      <th>reviewID</th>\n",
              "      <th>reviewerID</th>\n",
              "      <th>reviewContent</th>\n",
              "      <th>rating</th>\n",
              "      <th>usefulCount</th>\n",
              "      <th>date</th>\n",
              "      <th>reviewerID.1</th>\n",
              "      <th>firstCount</th>\n",
              "      <th>reviewCount</th>\n",
              "      <th>Filtered</th>\n",
              "      <th>cleanContent</th>\n",
              "    </tr>\n",
              "  </thead>\n",
              "  <tbody>\n",
              "    <tr>\n",
              "      <th>0</th>\n",
              "      <td>---2eJpQ2HAnRQRp2v7XLA</td>\n",
              "      <td>-ORdirlxcallT7dzlZlW2A</td>\n",
              "      <td>I came to Chicago on business and was initiall...</td>\n",
              "      <td>5</td>\n",
              "      <td>5</td>\n",
              "      <td>9/28/2011</td>\n",
              "      <td>-ORdirlxcallT7dzlZlW2A</td>\n",
              "      <td>0.0</td>\n",
              "      <td>2.0</td>\n",
              "      <td>0.0</td>\n",
              "      <td>came chicago business initially supposed stay ...</td>\n",
              "    </tr>\n",
              "    <tr>\n",
              "      <th>1</th>\n",
              "      <td>--0gvJ0LlByoUsFi6x4eEQ</td>\n",
              "      <td>biZ0fIcZp7B-KBJ3EGcX7Q</td>\n",
              "      <td>I still love this place but the took Mu Shu of...</td>\n",
              "      <td>5</td>\n",
              "      <td>2</td>\n",
              "      <td>Update - 5/12/2009</td>\n",
              "      <td>biZ0fIcZp7B-KBJ3EGcX7Q</td>\n",
              "      <td>268.0</td>\n",
              "      <td>543.0</td>\n",
              "      <td>0.0</td>\n",
              "      <td>still love place took menu deeply saddened sho...</td>\n",
              "    </tr>\n",
              "    <tr>\n",
              "      <th>2</th>\n",
              "      <td>--1PwTt0AfyPG1pE7bB6Nw</td>\n",
              "      <td>pW9LvtC-hZ0PRAOUn7aZ2A</td>\n",
              "      <td>Alan is the best CPA that I know. He knows all...</td>\n",
              "      <td>5</td>\n",
              "      <td>0</td>\n",
              "      <td>8/15/2006</td>\n",
              "      <td>pW9LvtC-hZ0PRAOUn7aZ2A</td>\n",
              "      <td>834.0</td>\n",
              "      <td>1463.0</td>\n",
              "      <td>0.0</td>\n",
              "      <td>alan best know knows outs loop holes smart whi...</td>\n",
              "    </tr>\n",
              "    <tr>\n",
              "      <th>3</th>\n",
              "      <td>--87QVdPvgbDK3GeVxFRzg</td>\n",
              "      <td>92rtlWxS2aOngzkKhi-OxQ</td>\n",
              "      <td>My family has been using Korean Air for many m...</td>\n",
              "      <td>4</td>\n",
              "      <td>0</td>\n",
              "      <td>7/28/2012</td>\n",
              "      <td>92rtlWxS2aOngzkKhi-OxQ</td>\n",
              "      <td>43.0</td>\n",
              "      <td>158.0</td>\n",
              "      <td>0.0</td>\n",
              "      <td>family using korean many many years going asia...</td>\n",
              "    </tr>\n",
              "    <tr>\n",
              "      <th>4</th>\n",
              "      <td>--99ZJoVHP32iSd4i4nlZw</td>\n",
              "      <td>Egu4qSFR56EhGuTHZTaVjA</td>\n",
              "      <td>I hadn't been to Grisanti's since a pre-homeco...</td>\n",
              "      <td>3</td>\n",
              "      <td>0</td>\n",
              "      <td>1/28/2010</td>\n",
              "      <td>Egu4qSFR56EhGuTHZTaVjA</td>\n",
              "      <td>133.0</td>\n",
              "      <td>725.0</td>\n",
              "      <td>0.0</td>\n",
              "      <td>hadnt grisantis since prehomecoming dinner hig...</td>\n",
              "    </tr>\n",
              "    <tr>\n",
              "      <th>...</th>\n",
              "      <td>...</td>\n",
              "      <td>...</td>\n",
              "      <td>...</td>\n",
              "      <td>...</td>\n",
              "      <td>...</td>\n",
              "      <td>...</td>\n",
              "      <td>...</td>\n",
              "      <td>...</td>\n",
              "      <td>...</td>\n",
              "      <td>...</td>\n",
              "      <td>...</td>\n",
              "    </tr>\n",
              "    <tr>\n",
              "      <th>19995</th>\n",
              "      <td>A18YXCahOIwmCJ1J8derdA</td>\n",
              "      <td>KYtrBL_Cp1CudlGC1XiiSA</td>\n",
              "      <td>I have to say that one of the best attributes ...</td>\n",
              "      <td>4</td>\n",
              "      <td>0</td>\n",
              "      <td>4/24/2010</td>\n",
              "      <td>KYtrBL_Cp1CudlGC1XiiSA</td>\n",
              "      <td>174.0</td>\n",
              "      <td>1022.0</td>\n",
              "      <td>0.0</td>\n",
              "      <td>best attributes place consistency around long ...</td>\n",
              "    </tr>\n",
              "    <tr>\n",
              "      <th>19996</th>\n",
              "      <td>a1a-7V09z2AfspiQeBiBCw</td>\n",
              "      <td>5Y5KbsI5buMcNh2hTFaRpA</td>\n",
              "      <td>Willowcreek is a decent option for vegetarians...</td>\n",
              "      <td>3</td>\n",
              "      <td>1</td>\n",
              "      <td>7/7/2011</td>\n",
              "      <td>5Y5KbsI5buMcNh2hTFaRpA</td>\n",
              "      <td>94.0</td>\n",
              "      <td>580.0</td>\n",
              "      <td>0.0</td>\n",
              "      <td>willowcreek decent option vegetariansvegans ha...</td>\n",
              "    </tr>\n",
              "    <tr>\n",
              "      <th>19997</th>\n",
              "      <td>a1AIpxn2OXX48s9RTmVr7g</td>\n",
              "      <td>wwNs_kMiVEn8V61uqP3ZzA</td>\n",
              "      <td>Rate location security and staff were better t...</td>\n",
              "      <td>4</td>\n",
              "      <td>3</td>\n",
              "      <td>7/18/2008</td>\n",
              "      <td>wwNs_kMiVEn8V61uqP3ZzA</td>\n",
              "      <td>5.0</td>\n",
              "      <td>12.0</td>\n",
              "      <td>0.0</td>\n",
              "      <td>rate location security staff better vast major...</td>\n",
              "    </tr>\n",
              "    <tr>\n",
              "      <th>19998</th>\n",
              "      <td>a1AoCyA9VE37XPa3eF5aQA</td>\n",
              "      <td>oClGUimXsTxxh4DvuKu26Q</td>\n",
              "      <td>this is the place I shop when in MT</td>\n",
              "      <td>4</td>\n",
              "      <td>0</td>\n",
              "      <td>7/31/2011</td>\n",
              "      <td>oClGUimXsTxxh4DvuKu26Q</td>\n",
              "      <td>21.0</td>\n",
              "      <td>105.0</td>\n",
              "      <td>0.0</td>\n",
              "      <td>place shop</td>\n",
              "    </tr>\n",
              "    <tr>\n",
              "      <th>19999</th>\n",
              "      <td>A1BR6SShT7PxPTKM96MPkg</td>\n",
              "      <td>OapLWhQI4_Gm32-nYbHmUA</td>\n",
              "      <td>This used to be the only way to get to Glacier...</td>\n",
              "      <td>4</td>\n",
              "      <td>4</td>\n",
              "      <td>5/14/2009</td>\n",
              "      <td>OapLWhQI4_Gm32-nYbHmUA</td>\n",
              "      <td>754.0</td>\n",
              "      <td>1693.0</td>\n",
              "      <td>0.0</td>\n",
              "      <td>used glacier point glacier point favourite spo...</td>\n",
              "    </tr>\n",
              "  </tbody>\n",
              "</table>\n",
              "<p>20000 rows × 11 columns</p>\n",
              "</div>"
            ],
            "text/plain": [
              "                     reviewID  ...                                       cleanContent\n",
              "0      ---2eJpQ2HAnRQRp2v7XLA  ...  came chicago business initially supposed stay ...\n",
              "1      --0gvJ0LlByoUsFi6x4eEQ  ...  still love place took menu deeply saddened sho...\n",
              "2      --1PwTt0AfyPG1pE7bB6Nw  ...  alan best know knows outs loop holes smart whi...\n",
              "3      --87QVdPvgbDK3GeVxFRzg  ...  family using korean many many years going asia...\n",
              "4      --99ZJoVHP32iSd4i4nlZw  ...  hadnt grisantis since prehomecoming dinner hig...\n",
              "...                       ...  ...                                                ...\n",
              "19995  A18YXCahOIwmCJ1J8derdA  ...  best attributes place consistency around long ...\n",
              "19996  a1a-7V09z2AfspiQeBiBCw  ...  willowcreek decent option vegetariansvegans ha...\n",
              "19997  a1AIpxn2OXX48s9RTmVr7g  ...  rate location security staff better vast major...\n",
              "19998  a1AoCyA9VE37XPa3eF5aQA  ...                                         place shop\n",
              "19999  A1BR6SShT7PxPTKM96MPkg  ...  used glacier point glacier point favourite spo...\n",
              "\n",
              "[20000 rows x 11 columns]"
            ]
          },
          "metadata": {
            "tags": []
          },
          "execution_count": 183
        }
      ]
    },
    {
      "cell_type": "code",
      "metadata": {
        "id": "T79LR3028CKA"
      },
      "source": [
        ""
      ],
      "execution_count": null,
      "outputs": []
    },
    {
      "cell_type": "markdown",
      "metadata": {
        "id": "KHTvFk1i8qWl"
      },
      "source": [
        "**TF-IDF**"
      ]
    },
    {
      "cell_type": "code",
      "metadata": {
        "id": "eQy46sMuS3LA"
      },
      "source": [
        "from sklearn.feature_extraction.text import TfidfVectorizer\r\n",
        "tfidfconverter = TfidfVectorizer(max_features=1000, min_df=5, max_df=0.7, stop_words=stopwords.words('english'))\r\n",
        "tfidf_matrix = tfidfconverter.fit_transform(df[\"cleanContent\"])"
      ],
      "execution_count": 184,
      "outputs": []
    },
    {
      "cell_type": "code",
      "metadata": {
        "colab": {
          "base_uri": "https://localhost:8080/"
        },
        "id": "HQS20F37UiRS",
        "outputId": "35de2dbf-1fd2-4101-8844-ed216f201a24"
      },
      "source": [
        "print(len(tfidf_matrix.toarray()))\r\n"
      ],
      "execution_count": 185,
      "outputs": [
        {
          "output_type": "stream",
          "text": [
            "20000\n"
          ],
          "name": "stdout"
        }
      ]
    },
    {
      "cell_type": "markdown",
      "metadata": {
        "id": "w0hNP5dJ8554"
      },
      "source": [
        "**calculateing cosine similarity**"
      ]
    },
    {
      "cell_type": "code",
      "metadata": {
        "id": "8CVfZx19TXxK"
      },
      "source": [
        "from sklearn.metrics.pairwise import cosine_similarity\r\n",
        "cosineSim=[]\r\n",
        "for i in range(len(tfidf_matrix.toarray())):\r\n",
        "  sim=(cosine_similarity(tfidf_matrix[i], tfidf_matrix)).mean()\r\n",
        "  cosineSim.append(sim)"
      ],
      "execution_count": 32,
      "outputs": []
    },
    {
      "cell_type": "markdown",
      "metadata": {
        "id": "ItH1UA-o9Fmu"
      },
      "source": [
        "**text processing**"
      ]
    },
    {
      "cell_type": "code",
      "metadata": {
        "colab": {
          "base_uri": "https://localhost:8080/",
          "height": 892
        },
        "id": "BNxOe7egbXm1",
        "outputId": "daf17225-5f49-4ada-dbb1-434983445ac7"
      },
      "source": [
        "list_of_rows = [list(row) for row in df.values]\r\n",
        "#print(len(cosineSim))\r\n",
        "links_count(df,\"reviewContent\",\"linksCount\")\r\n",
        "hashtags_count(df, \"reviewContent\", \"hashtagsCount\")\r\n",
        "user_mentions_count(df, \"reviewContent\", \"userMentionsCount\")\r\n",
        "numerics_count(df,\"reviewContent\",\"numericsCount\")\r\n",
        "clean(df, \"reviewContent\", \"cleanContent\")\r\n",
        "\r\n",
        "word_count(df, \"reviewContent\", \"wCount\")\r\n",
        "word_count(df, \"cleanContent\", \"wordCount\")\r\n",
        "\r\n"
      ],
      "execution_count": 186,
      "outputs": [
        {
          "output_type": "execute_result",
          "data": {
            "text/html": [
              "<div>\n",
              "<style scoped>\n",
              "    .dataframe tbody tr th:only-of-type {\n",
              "        vertical-align: middle;\n",
              "    }\n",
              "\n",
              "    .dataframe tbody tr th {\n",
              "        vertical-align: top;\n",
              "    }\n",
              "\n",
              "    .dataframe thead th {\n",
              "        text-align: right;\n",
              "    }\n",
              "</style>\n",
              "<table border=\"1\" class=\"dataframe\">\n",
              "  <thead>\n",
              "    <tr style=\"text-align: right;\">\n",
              "      <th></th>\n",
              "      <th>reviewID</th>\n",
              "      <th>reviewerID</th>\n",
              "      <th>reviewContent</th>\n",
              "      <th>rating</th>\n",
              "      <th>usefulCount</th>\n",
              "      <th>date</th>\n",
              "      <th>reviewerID.1</th>\n",
              "      <th>firstCount</th>\n",
              "      <th>reviewCount</th>\n",
              "      <th>Filtered</th>\n",
              "      <th>cleanContent</th>\n",
              "      <th>linksCount</th>\n",
              "      <th>hashtagsCount</th>\n",
              "      <th>userMentionsCount</th>\n",
              "      <th>numericsCount</th>\n",
              "      <th>wCount</th>\n",
              "      <th>wordCount</th>\n",
              "    </tr>\n",
              "  </thead>\n",
              "  <tbody>\n",
              "    <tr>\n",
              "      <th>0</th>\n",
              "      <td>---2eJpQ2HAnRQRp2v7XLA</td>\n",
              "      <td>-ORdirlxcallT7dzlZlW2A</td>\n",
              "      <td>I came to Chicago on business and was initiall...</td>\n",
              "      <td>5</td>\n",
              "      <td>5</td>\n",
              "      <td>9/28/2011</td>\n",
              "      <td>-ORdirlxcallT7dzlZlW2A</td>\n",
              "      <td>0.0</td>\n",
              "      <td>2.0</td>\n",
              "      <td>0.0</td>\n",
              "      <td>came chicago business initially supposed stay ...</td>\n",
              "      <td>0</td>\n",
              "      <td>0</td>\n",
              "      <td>0</td>\n",
              "      <td>0</td>\n",
              "      <td>138</td>\n",
              "      <td>70</td>\n",
              "    </tr>\n",
              "    <tr>\n",
              "      <th>1</th>\n",
              "      <td>--0gvJ0LlByoUsFi6x4eEQ</td>\n",
              "      <td>biZ0fIcZp7B-KBJ3EGcX7Q</td>\n",
              "      <td>I still love this place but the took Mu Shu of...</td>\n",
              "      <td>5</td>\n",
              "      <td>2</td>\n",
              "      <td>Update - 5/12/2009</td>\n",
              "      <td>biZ0fIcZp7B-KBJ3EGcX7Q</td>\n",
              "      <td>268.0</td>\n",
              "      <td>543.0</td>\n",
              "      <td>0.0</td>\n",
              "      <td>still love place took menu deeply saddened sho...</td>\n",
              "      <td>0</td>\n",
              "      <td>0</td>\n",
              "      <td>0</td>\n",
              "      <td>0</td>\n",
              "      <td>21</td>\n",
              "      <td>10</td>\n",
              "    </tr>\n",
              "    <tr>\n",
              "      <th>2</th>\n",
              "      <td>--1PwTt0AfyPG1pE7bB6Nw</td>\n",
              "      <td>pW9LvtC-hZ0PRAOUn7aZ2A</td>\n",
              "      <td>Alan is the best CPA that I know. He knows all...</td>\n",
              "      <td>5</td>\n",
              "      <td>0</td>\n",
              "      <td>8/15/2006</td>\n",
              "      <td>pW9LvtC-hZ0PRAOUn7aZ2A</td>\n",
              "      <td>834.0</td>\n",
              "      <td>1463.0</td>\n",
              "      <td>0.0</td>\n",
              "      <td>alan best know knows outs loop holes smart whi...</td>\n",
              "      <td>0</td>\n",
              "      <td>0</td>\n",
              "      <td>0</td>\n",
              "      <td>0</td>\n",
              "      <td>102</td>\n",
              "      <td>28</td>\n",
              "    </tr>\n",
              "    <tr>\n",
              "      <th>3</th>\n",
              "      <td>--87QVdPvgbDK3GeVxFRzg</td>\n",
              "      <td>92rtlWxS2aOngzkKhi-OxQ</td>\n",
              "      <td>My family has been using Korean Air for many m...</td>\n",
              "      <td>4</td>\n",
              "      <td>0</td>\n",
              "      <td>7/28/2012</td>\n",
              "      <td>92rtlWxS2aOngzkKhi-OxQ</td>\n",
              "      <td>43.0</td>\n",
              "      <td>158.0</td>\n",
              "      <td>0.0</td>\n",
              "      <td>family using korean many many years going asia...</td>\n",
              "      <td>0</td>\n",
              "      <td>0</td>\n",
              "      <td>0</td>\n",
              "      <td>0</td>\n",
              "      <td>135</td>\n",
              "      <td>62</td>\n",
              "    </tr>\n",
              "    <tr>\n",
              "      <th>4</th>\n",
              "      <td>--99ZJoVHP32iSd4i4nlZw</td>\n",
              "      <td>Egu4qSFR56EhGuTHZTaVjA</td>\n",
              "      <td>I hadn't been to Grisanti's since a pre-homeco...</td>\n",
              "      <td>3</td>\n",
              "      <td>0</td>\n",
              "      <td>1/28/2010</td>\n",
              "      <td>Egu4qSFR56EhGuTHZTaVjA</td>\n",
              "      <td>133.0</td>\n",
              "      <td>725.0</td>\n",
              "      <td>0.0</td>\n",
              "      <td>hadnt grisantis since prehomecoming dinner hig...</td>\n",
              "      <td>0</td>\n",
              "      <td>0</td>\n",
              "      <td>0</td>\n",
              "      <td>0</td>\n",
              "      <td>142</td>\n",
              "      <td>73</td>\n",
              "    </tr>\n",
              "    <tr>\n",
              "      <th>...</th>\n",
              "      <td>...</td>\n",
              "      <td>...</td>\n",
              "      <td>...</td>\n",
              "      <td>...</td>\n",
              "      <td>...</td>\n",
              "      <td>...</td>\n",
              "      <td>...</td>\n",
              "      <td>...</td>\n",
              "      <td>...</td>\n",
              "      <td>...</td>\n",
              "      <td>...</td>\n",
              "      <td>...</td>\n",
              "      <td>...</td>\n",
              "      <td>...</td>\n",
              "      <td>...</td>\n",
              "      <td>...</td>\n",
              "      <td>...</td>\n",
              "    </tr>\n",
              "    <tr>\n",
              "      <th>19995</th>\n",
              "      <td>A18YXCahOIwmCJ1J8derdA</td>\n",
              "      <td>KYtrBL_Cp1CudlGC1XiiSA</td>\n",
              "      <td>I have to say that one of the best attributes ...</td>\n",
              "      <td>4</td>\n",
              "      <td>0</td>\n",
              "      <td>4/24/2010</td>\n",
              "      <td>KYtrBL_Cp1CudlGC1XiiSA</td>\n",
              "      <td>174.0</td>\n",
              "      <td>1022.0</td>\n",
              "      <td>0.0</td>\n",
              "      <td>best attributes place consistency around long ...</td>\n",
              "      <td>0</td>\n",
              "      <td>0</td>\n",
              "      <td>0</td>\n",
              "      <td>0</td>\n",
              "      <td>148</td>\n",
              "      <td>59</td>\n",
              "    </tr>\n",
              "    <tr>\n",
              "      <th>19996</th>\n",
              "      <td>a1a-7V09z2AfspiQeBiBCw</td>\n",
              "      <td>5Y5KbsI5buMcNh2hTFaRpA</td>\n",
              "      <td>Willowcreek is a decent option for vegetarians...</td>\n",
              "      <td>3</td>\n",
              "      <td>1</td>\n",
              "      <td>7/7/2011</td>\n",
              "      <td>5Y5KbsI5buMcNh2hTFaRpA</td>\n",
              "      <td>94.0</td>\n",
              "      <td>580.0</td>\n",
              "      <td>0.0</td>\n",
              "      <td>willowcreek decent option vegetariansvegans ha...</td>\n",
              "      <td>0</td>\n",
              "      <td>0</td>\n",
              "      <td>0</td>\n",
              "      <td>0</td>\n",
              "      <td>144</td>\n",
              "      <td>61</td>\n",
              "    </tr>\n",
              "    <tr>\n",
              "      <th>19997</th>\n",
              "      <td>a1AIpxn2OXX48s9RTmVr7g</td>\n",
              "      <td>wwNs_kMiVEn8V61uqP3ZzA</td>\n",
              "      <td>Rate location security and staff were better t...</td>\n",
              "      <td>4</td>\n",
              "      <td>3</td>\n",
              "      <td>7/18/2008</td>\n",
              "      <td>wwNs_kMiVEn8V61uqP3ZzA</td>\n",
              "      <td>5.0</td>\n",
              "      <td>12.0</td>\n",
              "      <td>0.0</td>\n",
              "      <td>rate location security staff better vast major...</td>\n",
              "      <td>0</td>\n",
              "      <td>0</td>\n",
              "      <td>0</td>\n",
              "      <td>1</td>\n",
              "      <td>153</td>\n",
              "      <td>63</td>\n",
              "    </tr>\n",
              "    <tr>\n",
              "      <th>19998</th>\n",
              "      <td>a1AoCyA9VE37XPa3eF5aQA</td>\n",
              "      <td>oClGUimXsTxxh4DvuKu26Q</td>\n",
              "      <td>this is the place I shop when in MT</td>\n",
              "      <td>4</td>\n",
              "      <td>0</td>\n",
              "      <td>7/31/2011</td>\n",
              "      <td>oClGUimXsTxxh4DvuKu26Q</td>\n",
              "      <td>21.0</td>\n",
              "      <td>105.0</td>\n",
              "      <td>0.0</td>\n",
              "      <td>place shop</td>\n",
              "      <td>0</td>\n",
              "      <td>0</td>\n",
              "      <td>0</td>\n",
              "      <td>0</td>\n",
              "      <td>9</td>\n",
              "      <td>2</td>\n",
              "    </tr>\n",
              "    <tr>\n",
              "      <th>19999</th>\n",
              "      <td>A1BR6SShT7PxPTKM96MPkg</td>\n",
              "      <td>OapLWhQI4_Gm32-nYbHmUA</td>\n",
              "      <td>This used to be the only way to get to Glacier...</td>\n",
              "      <td>4</td>\n",
              "      <td>4</td>\n",
              "      <td>5/14/2009</td>\n",
              "      <td>OapLWhQI4_Gm32-nYbHmUA</td>\n",
              "      <td>754.0</td>\n",
              "      <td>1693.0</td>\n",
              "      <td>0.0</td>\n",
              "      <td>used glacier point glacier point favourite spo...</td>\n",
              "      <td>0</td>\n",
              "      <td>0</td>\n",
              "      <td>0</td>\n",
              "      <td>2</td>\n",
              "      <td>99</td>\n",
              "      <td>41</td>\n",
              "    </tr>\n",
              "  </tbody>\n",
              "</table>\n",
              "<p>20000 rows × 17 columns</p>\n",
              "</div>"
            ],
            "text/plain": [
              "                     reviewID              reviewerID  ... wCount wordCount\n",
              "0      ---2eJpQ2HAnRQRp2v7XLA  -ORdirlxcallT7dzlZlW2A  ...    138        70\n",
              "1      --0gvJ0LlByoUsFi6x4eEQ  biZ0fIcZp7B-KBJ3EGcX7Q  ...     21        10\n",
              "2      --1PwTt0AfyPG1pE7bB6Nw  pW9LvtC-hZ0PRAOUn7aZ2A  ...    102        28\n",
              "3      --87QVdPvgbDK3GeVxFRzg  92rtlWxS2aOngzkKhi-OxQ  ...    135        62\n",
              "4      --99ZJoVHP32iSd4i4nlZw  Egu4qSFR56EhGuTHZTaVjA  ...    142        73\n",
              "...                       ...                     ...  ...    ...       ...\n",
              "19995  A18YXCahOIwmCJ1J8derdA  KYtrBL_Cp1CudlGC1XiiSA  ...    148        59\n",
              "19996  a1a-7V09z2AfspiQeBiBCw  5Y5KbsI5buMcNh2hTFaRpA  ...    144        61\n",
              "19997  a1AIpxn2OXX48s9RTmVr7g  wwNs_kMiVEn8V61uqP3ZzA  ...    153        63\n",
              "19998  a1AoCyA9VE37XPa3eF5aQA  oClGUimXsTxxh4DvuKu26Q  ...      9         2\n",
              "19999  A1BR6SShT7PxPTKM96MPkg  OapLWhQI4_Gm32-nYbHmUA  ...     99        41\n",
              "\n",
              "[20000 rows x 17 columns]"
            ]
          },
          "metadata": {
            "tags": []
          },
          "execution_count": 186
        }
      ]
    },
    {
      "cell_type": "markdown",
      "metadata": {
        "id": "gmAoUcJ69XZz"
      },
      "source": [
        "**feature Extraction**"
      ]
    },
    {
      "cell_type": "code",
      "metadata": {
        "colab": {
          "base_uri": "https://localhost:8080/",
          "height": 195
        },
        "id": "whyJFWsNeUO8",
        "outputId": "0b2d49f1-f640-4525-9be8-4de4184c4153"
      },
      "source": [
        "dateList=[]\r\n",
        "for word in list_of_rows:\r\n",
        "    if \"Update\" in str(word[5]):\r\n",
        "        dateList.append(1)\r\n",
        "    else:\r\n",
        "        dateList.append(0)\r\n",
        "\r\n",
        "extremeRating=[]\r\n",
        "for rating in list(df[\"rating\"]):\r\n",
        "    if rating == 5 or rating == 1:\r\n",
        "        extremeRating.append(1)\r\n",
        "    else:\r\n",
        "        extremeRating.append(0)\r\n",
        "\r\n",
        "\r\n",
        "\r\n",
        "\r\n",
        "dict = {'UpdateOrNot': dateList,\r\n",
        "       'NumberOfURLs': list(df[\"linksCount\"]),\r\n",
        "       'NumberOfnumerics': list(df[\"numericsCount\"]),\r\n",
        "      #'hashtagsCount': list(df[\"hashtagsCount\"]),\r\n",
        "      #'userMentionsCount': list(df[\"userMentionsCount\"]),\r\n",
        "       'extremeRating':extremeRating,\r\n",
        "       'firstCount':list(df[\"firstCount\"]),\r\n",
        "       'wordCount':list(df['wCount']),\r\n",
        "       'reviewCount':list(df['reviewCount']),\r\n",
        "       'usefulCount':list(df['usefulCount']),\r\n",
        "        'cosineSimilarty':cosineSim,\r\n",
        "       'Filtered':list(df[\"Filtered\"])\r\n",
        "        }\r\n",
        "\r\n",
        "\r\n",
        "df1 = pd.DataFrame(dict)\r\n",
        "df1.to_csv('Data.csv',index=False)\r\n",
        "df1.head()"
      ],
      "execution_count": 187,
      "outputs": [
        {
          "output_type": "execute_result",
          "data": {
            "text/html": [
              "<div>\n",
              "<style scoped>\n",
              "    .dataframe tbody tr th:only-of-type {\n",
              "        vertical-align: middle;\n",
              "    }\n",
              "\n",
              "    .dataframe tbody tr th {\n",
              "        vertical-align: top;\n",
              "    }\n",
              "\n",
              "    .dataframe thead th {\n",
              "        text-align: right;\n",
              "    }\n",
              "</style>\n",
              "<table border=\"1\" class=\"dataframe\">\n",
              "  <thead>\n",
              "    <tr style=\"text-align: right;\">\n",
              "      <th></th>\n",
              "      <th>UpdateOrNot</th>\n",
              "      <th>NumberOfURLs</th>\n",
              "      <th>NumberOfnumerics</th>\n",
              "      <th>extremeRating</th>\n",
              "      <th>firstCount</th>\n",
              "      <th>wordCount</th>\n",
              "      <th>reviewCount</th>\n",
              "      <th>usefulCount</th>\n",
              "      <th>cosineSimilarty</th>\n",
              "      <th>Filtered</th>\n",
              "    </tr>\n",
              "  </thead>\n",
              "  <tbody>\n",
              "    <tr>\n",
              "      <th>0</th>\n",
              "      <td>0</td>\n",
              "      <td>0</td>\n",
              "      <td>0</td>\n",
              "      <td>0</td>\n",
              "      <td>0.0</td>\n",
              "      <td>138</td>\n",
              "      <td>2.0</td>\n",
              "      <td>5</td>\n",
              "      <td>0.037917</td>\n",
              "      <td>0.0</td>\n",
              "    </tr>\n",
              "    <tr>\n",
              "      <th>1</th>\n",
              "      <td>1</td>\n",
              "      <td>0</td>\n",
              "      <td>0</td>\n",
              "      <td>0</td>\n",
              "      <td>268.0</td>\n",
              "      <td>21</td>\n",
              "      <td>543.0</td>\n",
              "      <td>2</td>\n",
              "      <td>0.031031</td>\n",
              "      <td>0.0</td>\n",
              "    </tr>\n",
              "    <tr>\n",
              "      <th>2</th>\n",
              "      <td>0</td>\n",
              "      <td>0</td>\n",
              "      <td>0</td>\n",
              "      <td>0</td>\n",
              "      <td>834.0</td>\n",
              "      <td>102</td>\n",
              "      <td>1463.0</td>\n",
              "      <td>0</td>\n",
              "      <td>0.021429</td>\n",
              "      <td>0.0</td>\n",
              "    </tr>\n",
              "    <tr>\n",
              "      <th>3</th>\n",
              "      <td>0</td>\n",
              "      <td>0</td>\n",
              "      <td>0</td>\n",
              "      <td>0</td>\n",
              "      <td>43.0</td>\n",
              "      <td>135</td>\n",
              "      <td>158.0</td>\n",
              "      <td>0</td>\n",
              "      <td>0.042153</td>\n",
              "      <td>0.0</td>\n",
              "    </tr>\n",
              "    <tr>\n",
              "      <th>4</th>\n",
              "      <td>0</td>\n",
              "      <td>0</td>\n",
              "      <td>0</td>\n",
              "      <td>0</td>\n",
              "      <td>133.0</td>\n",
              "      <td>142</td>\n",
              "      <td>725.0</td>\n",
              "      <td>0</td>\n",
              "      <td>0.042694</td>\n",
              "      <td>0.0</td>\n",
              "    </tr>\n",
              "  </tbody>\n",
              "</table>\n",
              "</div>"
            ],
            "text/plain": [
              "   UpdateOrNot  NumberOfURLs  ...  cosineSimilarty  Filtered\n",
              "0            0             0  ...         0.037917       0.0\n",
              "1            1             0  ...         0.031031       0.0\n",
              "2            0             0  ...         0.021429       0.0\n",
              "3            0             0  ...         0.042153       0.0\n",
              "4            0             0  ...         0.042694       0.0\n",
              "\n",
              "[5 rows x 10 columns]"
            ]
          },
          "metadata": {
            "tags": []
          },
          "execution_count": 187
        }
      ]
    },
    {
      "cell_type": "code",
      "metadata": {
        "colab": {
          "base_uri": "https://localhost:8080/"
        },
        "id": "jvEDnTCidHvt",
        "outputId": "566ee1f8-79e9-4264-d158-0e8dee1a79d5"
      },
      "source": [
        "df1.info()\r\n",
        "df1['Filtered'].value_counts()"
      ],
      "execution_count": 188,
      "outputs": [
        {
          "output_type": "stream",
          "text": [
            "<class 'pandas.core.frame.DataFrame'>\n",
            "RangeIndex: 20000 entries, 0 to 19999\n",
            "Data columns (total 10 columns):\n",
            " #   Column            Non-Null Count  Dtype  \n",
            "---  ------            --------------  -----  \n",
            " 0   UpdateOrNot       20000 non-null  int64  \n",
            " 1   NumberOfURLs      20000 non-null  int64  \n",
            " 2   NumberOfnumerics  20000 non-null  int64  \n",
            " 3   extremeRating     20000 non-null  int64  \n",
            " 4   firstCount        20000 non-null  float64\n",
            " 5   wordCount         20000 non-null  int64  \n",
            " 6   reviewCount       20000 non-null  float64\n",
            " 7   usefulCount       20000 non-null  object \n",
            " 8   cosineSimilarty   20000 non-null  float64\n",
            " 9   Filtered          20000 non-null  float64\n",
            "dtypes: float64(4), int64(5), object(1)\n",
            "memory usage: 1.5+ MB\n"
          ],
          "name": "stdout"
        },
        {
          "output_type": "execute_result",
          "data": {
            "text/plain": [
              "0.0    16671\n",
              "1.0     3329\n",
              "Name: Filtered, dtype: int64"
            ]
          },
          "metadata": {
            "tags": []
          },
          "execution_count": 188
        }
      ]
    },
    {
      "cell_type": "code",
      "metadata": {
        "id": "kJspnBuxdkZK"
      },
      "source": [
        "df1.replace([np.inf, -np.inf], np.nan, inplace=True)\r\n",
        "df1= df1.apply(lambda x: pd.to_numeric(x, errors='coerce')).dropna().astype(int)"
      ],
      "execution_count": 189,
      "outputs": []
    },
    {
      "cell_type": "code",
      "metadata": {
        "id": "jZjHksgleeVj"
      },
      "source": [
        "X = df1.drop('Filtered', axis=1).astype(int, errors='ignore')\r\n",
        "y = df1['Filtered'].astype(int, errors='ignore')"
      ],
      "execution_count": 190,
      "outputs": []
    },
    {
      "cell_type": "markdown",
      "metadata": {
        "id": "8OrSIfvI9p1d"
      },
      "source": [
        "**handling imbalanced dataset by over sampling**"
      ]
    },
    {
      "cell_type": "code",
      "metadata": {
        "colab": {
          "base_uri": "https://localhost:8080/"
        },
        "id": "j_D-Fkt2plnJ",
        "outputId": "e4028caf-4462-4b6a-d670-560c76f8445f"
      },
      "source": [
        "from collections import Counter\r\n",
        "from sklearn.datasets import make_classification\r\n",
        "from imblearn.over_sampling import RandomOverSampler\r\n",
        "\r\n",
        "oversample = RandomOverSampler(sampling_strategy='minority')\r\n",
        "oversample = RandomOverSampler(sampling_strategy=1.0)\r\n",
        "X, y = oversample.fit_resample(X, y)\r\n",
        "#print(Counter(y_over))\r\n",
        "\r\n"
      ],
      "execution_count": 191,
      "outputs": [
        {
          "output_type": "stream",
          "text": [
            "/usr/local/lib/python3.6/dist-packages/sklearn/utils/deprecation.py:87: FutureWarning: Function safe_indexing is deprecated; safe_indexing is deprecated in version 0.22 and will be removed in version 0.24.\n",
            "  warnings.warn(msg, category=FutureWarning)\n"
          ],
          "name": "stderr"
        }
      ]
    },
    {
      "cell_type": "markdown",
      "metadata": {
        "id": "RclMQgO19yUr"
      },
      "source": [
        "**Split for train and test**"
      ]
    },
    {
      "cell_type": "code",
      "metadata": {
        "id": "v2r4BBT4dvu1"
      },
      "source": [
        "from sklearn.model_selection import train_test_split\r\n",
        "X_train, X_test, y_train, y_test = train_test_split(X,y ,test_size=0.3)\r\n"
      ],
      "execution_count": 192,
      "outputs": []
    },
    {
      "cell_type": "markdown",
      "metadata": {
        "id": "eBPwhm7b95rU"
      },
      "source": [
        "**Decision Tree Classifier**"
      ]
    },
    {
      "cell_type": "code",
      "metadata": {
        "colab": {
          "base_uri": "https://localhost:8080/"
        },
        "id": "KLyxyJRXd-rW",
        "outputId": "85119bb1-a3ed-45cc-8065-57f8d7a83f9c"
      },
      "source": [
        "from sklearn.tree import DecisionTreeClassifier\r\n",
        "classifier = DecisionTreeClassifier()\r\n",
        "classifier.fit(X_train, y_train)\r\n",
        "y_pred = classifier.predict(X_test)\r\n",
        "print(\"Decision Tree:\")\r\n",
        "print(\"Accuracy:\",accuracy_score(y_test, y_pred)*100)\r\n",
        "print(\"precision_score:\",precision_score(y_test, y_pred)*100)\r\n",
        "print(\"recall_score:\",recall_score(y_test, y_pred)*100)\r\n",
        "print(\"f1_score:\",f1_score(y_test, y_pred)*100)\r\n"
      ],
      "execution_count": 193,
      "outputs": [
        {
          "output_type": "stream",
          "text": [
            "Decision Tree:\n",
            "Accuracy: 89.20323902829152\n",
            "precision_score: 83.5142118863049\n",
            "recall_score: 97.52564876282437\n",
            "f1_score: 89.97772828507794\n"
          ],
          "name": "stdout"
        }
      ]
    },
    {
      "cell_type": "markdown",
      "metadata": {
        "id": "2lxO5KeU9-wk"
      },
      "source": [
        "**xgboost** **Classifier**"
      ]
    },
    {
      "cell_type": "code",
      "metadata": {
        "id": "tHxW3BLKsi2I",
        "colab": {
          "base_uri": "https://localhost:8080/"
        },
        "outputId": "ebe4fca5-cc1e-4cf6-f906-5d1926f1a6f3"
      },
      "source": [
        "import xgboost\r\n",
        "from sklearn.model_selection import StratifiedKFold\r\n",
        "from sklearn.model_selection import cross_val_score\r\n",
        "\r\n",
        "model = xgboost.XGBClassifier(subsample=0.85,learning_rate=0.3,max_depth= 95,max_features=1,min_samples_leaf=3,min_samples_split= 3,n_estimators= 1000)\r\n",
        "kfold = StratifiedKFold(n_splits=3, random_state=None, shuffle=True)\r\n",
        "for score in [\"accuracy\", \"precision\", \"recall\",\"f1\"]:\r\n",
        "  print( score,\" : \",cross_val_score(model, X,y,scoring=score, cv=kfold).mean()*100)"
      ],
      "execution_count": 179,
      "outputs": [
        {
          "output_type": "stream",
          "text": [
            "accuracy  :  92.12404774758562\n",
            "precision  :  87.65313418021049\n",
            "recall  :  97.75058484793954\n",
            "f1  :  92.40827594329261\n"
          ],
          "name": "stdout"
        }
      ]
    },
    {
      "cell_type": "markdown",
      "metadata": {
        "id": "WYVhdT6h5kUh"
      },
      "source": [
        ""
      ]
    }
  ]
}