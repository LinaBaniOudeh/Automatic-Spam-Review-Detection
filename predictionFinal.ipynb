{
  "nbformat": 4,
  "nbformat_minor": 0,
  "metadata": {
    "colab": {
      "name": "prediction.ipynb",
      "provenance": [],
      "authorship_tag": "ABX9TyO6kAPOPCHtuTJiqeSnx0gM",
      "include_colab_link": true
    },
    "kernelspec": {
      "name": "python3",
      "display_name": "Python 3"
    }
  },
  "cells": [
    {
      "cell_type": "markdown",
      "metadata": {
        "id": "view-in-github",
        "colab_type": "text"
      },
      "source": [
        "<a href=\"https://colab.research.google.com/github/RaghadQadah/Automatic-Spam-Review-Detection/blob/main/predictionFinal.ipynb\" target=\"_parent\"><img src=\"https://colab.research.google.com/assets/colab-badge.svg\" alt=\"Open In Colab\"/></a>"
      ]
    },
    {
      "cell_type": "code",
      "metadata": {
        "colab": {
          "base_uri": "https://localhost:8080/"
        },
        "id": "xlAMInl_xn5_",
        "outputId": "033b9bf3-ef64-490f-f661-f0ce410e8c03"
      },
      "source": [
        "from google.colab import drive\r\n",
        "drive.mount('/content/drive')"
      ],
      "execution_count": 51,
      "outputs": [
        {
          "output_type": "stream",
          "text": [
            "Drive already mounted at /content/drive; to attempt to forcibly remount, call drive.mount(\"/content/drive\", force_remount=True).\n"
          ],
          "name": "stdout"
        }
      ]
    },
    {
      "cell_type": "markdown",
      "metadata": {
        "id": "N5k7SOCMxnbp"
      },
      "source": [
        "**import library**"
      ]
    },
    {
      "cell_type": "code",
      "metadata": {
        "colab": {
          "base_uri": "https://localhost:8080/"
        },
        "id": "O3EXhHhZxHNU",
        "outputId": "7b67253a-3b7b-4e0c-ef0b-e78b20c631cd"
      },
      "source": [
        "import pickle\r\n",
        "from pandas import DataFrame\r\n",
        "import numpy as np\r\n",
        "import matplotlib.pyplot as plt\r\n",
        "import pandas as pd\r\n",
        "import string\r\n",
        "import nltk\r\n",
        "nltk.download('stopwords')\r\n",
        "from nltk.corpus import stopwords\r\n",
        "stop = stopwords.words('english')\r\n",
        "from sklearn.metrics import classification_report, confusion_matrix,accuracy_score,precision_score,recall_score,f1_score\r\n"
      ],
      "execution_count": null,
      "outputs": [
        {
          "output_type": "stream",
          "text": [
            "[nltk_data] Downloading package stopwords to /root/nltk_data...\n",
            "[nltk_data]   Unzipping corpora/stopwords.zip.\n"
          ],
          "name": "stdout"
        }
      ]
    },
    {
      "cell_type": "markdown",
      "metadata": {
        "id": "vB2FOK3WFZjk"
      },
      "source": [
        "**functions to extract features from**"
      ]
    },
    {
      "cell_type": "code",
      "metadata": {
        "id": "r4VSC-UhzsTe"
      },
      "source": [
        "def clean(df, text, name):\r\n",
        "    df[name] = df[text].str.lower()\r\n",
        "    df[name] = df[name].str.replace('http\\S+|www.\\S+', '', case=False)\r\n",
        "    df[name] = df[name].str.replace('[^\\w\\s]', '')\r\n",
        "    df[name] = df[name].str.replace('\\d+', '')\r\n",
        "    df[name] = df[name].apply(lambda x: ' '.join([word for word in  str(x).split() if word not in (stop)]))\r\n",
        "    df[name] = df[name].apply(lambda x: \" \".join(x for x in  str(x).split() if len(x) > 3))\r\n",
        "    return df\r\n",
        "def word_count(df, text, name):\r\n",
        "    df[name] = df[text].apply(lambda x: len(str(x).split(\" \")))\r\n",
        "    return df\r\n",
        "\r\n",
        "def hashtags_count(df, text, name):\r\n",
        "    df[name] = df[text].apply(lambda x: len([x for x in  str(x).split() if x.startswith('#')]))\r\n",
        "    return df\r\n",
        "\r\n",
        "def user_mentions_count(df, text, name):\r\n",
        "    df[name] = df[text].apply(lambda x: len([x for x in  str(x).split() if x.startswith('@')]))\r\n",
        "    return df\r\n",
        "\r\n",
        "def numerics_count(df, text, name):\r\n",
        "    df[name] = df[text].apply(lambda x: len([x for x in  str(x).split() if x.isdigit()]))\r\n",
        "    return df\r\n",
        "\r\n",
        "def links_count(df, text, name):\r\n",
        "    df[name] = df[text].apply(\r\n",
        "        lambda x: len([x for x in  str(x).split() if x.startswith(('httP', 'HTTPS', 'https', 'www', 'WWW', 'HTTP', 'http')) ]))\r\n",
        "    return df"
      ],
      "execution_count": null,
      "outputs": []
    },
    {
      "cell_type": "markdown",
      "metadata": {
        "id": "2gK8w-DZFvJs"
      },
      "source": [
        "**upload Model**"
      ]
    },
    {
      "cell_type": "code",
      "metadata": {
        "id": "B566UvcuYrkL"
      },
      "source": [
        "with open('drive/My Drive/model_pickle','rb') as file:\r\n",
        "    mp = pickle.load(file)"
      ],
      "execution_count": null,
      "outputs": []
    },
    {
      "cell_type": "code",
      "metadata": {
        "colab": {
          "base_uri": "https://localhost:8080/",
          "height": 106
        },
        "id": "lXy9J9C0yDh3",
        "outputId": "7c269cd6-1513-41f5-9f38-ab0b698b153b"
      },
      "source": [
        "listTest=[[\"0gvJ0LlByoUsFi6x4eEQ\",\"biZ0fIcZp7B-KBJ3EGcX7Q\",\"I still love this place but the took Mu Shu off the menu. Â I am deeply saddened. Show owner comment Â»\",5,2,\"Update - 5/12/2009\",\"biZ0fIcZp7B-KBJ3EGcX7Q\",268,543],\r\n",
        "      [\"#NAME?\",\"7dwh3pL2tbSeSvL0qLzUrw\",\"The highlight is the unique menu. The assorted pancakes waffles and other breakfast goodness make it a great breakfast choice. The portions are generous the ingredients are fresh and the flavors are wonderful! The service and atmosphere are also both amazing. The one downside is that they really back you in here when they are busy but business is business!\",4,1,\"6/17/2011\",\"7dwh3pL2tbSeSvL0qLzUrw\",24,461]]\r\n",
        "\r\n",
        "#listTest = ['item1', 'item2', 'item3',...]\r\n",
        "df = DataFrame (listTest,columns=['reviewID', 'reviewerID', 'reviewContent', 'rating', 'usefulCount',\r\n",
        "       'date', 'reviewerID.1', 'firstCount', 'reviewCount'])\r\n",
        "\r\n",
        "df"
      ],
      "execution_count": null,
      "outputs": [
        {
          "output_type": "execute_result",
          "data": {
            "text/html": [
              "<div>\n",
              "<style scoped>\n",
              "    .dataframe tbody tr th:only-of-type {\n",
              "        vertical-align: middle;\n",
              "    }\n",
              "\n",
              "    .dataframe tbody tr th {\n",
              "        vertical-align: top;\n",
              "    }\n",
              "\n",
              "    .dataframe thead th {\n",
              "        text-align: right;\n",
              "    }\n",
              "</style>\n",
              "<table border=\"1\" class=\"dataframe\">\n",
              "  <thead>\n",
              "    <tr style=\"text-align: right;\">\n",
              "      <th></th>\n",
              "      <th>reviewID</th>\n",
              "      <th>reviewerID</th>\n",
              "      <th>reviewContent</th>\n",
              "      <th>rating</th>\n",
              "      <th>usefulCount</th>\n",
              "      <th>date</th>\n",
              "      <th>reviewerID.1</th>\n",
              "      <th>firstCount</th>\n",
              "      <th>reviewCount</th>\n",
              "    </tr>\n",
              "  </thead>\n",
              "  <tbody>\n",
              "    <tr>\n",
              "      <th>0</th>\n",
              "      <td>0gvJ0LlByoUsFi6x4eEQ</td>\n",
              "      <td>biZ0fIcZp7B-KBJ3EGcX7Q</td>\n",
              "      <td>I still love this place but the took Mu Shu of...</td>\n",
              "      <td>5</td>\n",
              "      <td>2</td>\n",
              "      <td>Update - 5/12/2009</td>\n",
              "      <td>biZ0fIcZp7B-KBJ3EGcX7Q</td>\n",
              "      <td>268</td>\n",
              "      <td>543</td>\n",
              "    </tr>\n",
              "    <tr>\n",
              "      <th>1</th>\n",
              "      <td>#NAME?</td>\n",
              "      <td>7dwh3pL2tbSeSvL0qLzUrw</td>\n",
              "      <td>The highlight is the unique menu. The assorted...</td>\n",
              "      <td>4</td>\n",
              "      <td>1</td>\n",
              "      <td>6/17/2011</td>\n",
              "      <td>7dwh3pL2tbSeSvL0qLzUrw</td>\n",
              "      <td>24</td>\n",
              "      <td>461</td>\n",
              "    </tr>\n",
              "  </tbody>\n",
              "</table>\n",
              "</div>"
            ],
            "text/plain": [
              "               reviewID              reviewerID  ... firstCount  reviewCount\n",
              "0  0gvJ0LlByoUsFi6x4eEQ  biZ0fIcZp7B-KBJ3EGcX7Q  ...        268          543\n",
              "1                #NAME?  7dwh3pL2tbSeSvL0qLzUrw  ...         24          461\n",
              "\n",
              "[2 rows x 9 columns]"
            ]
          },
          "metadata": {
            "tags": []
          },
          "execution_count": 14
        }
      ]
    },
    {
      "cell_type": "code",
      "metadata": {
        "colab": {
          "base_uri": "https://localhost:8080/",
          "height": 174
        },
        "id": "RmkMFI0bzlHI",
        "outputId": "21686861-8e83-4e43-b400-e2de669b148b"
      },
      "source": [
        "clean(df, \"reviewContent\", \"cleanContent\")"
      ],
      "execution_count": null,
      "outputs": [
        {
          "output_type": "execute_result",
          "data": {
            "text/html": [
              "<div>\n",
              "<style scoped>\n",
              "    .dataframe tbody tr th:only-of-type {\n",
              "        vertical-align: middle;\n",
              "    }\n",
              "\n",
              "    .dataframe tbody tr th {\n",
              "        vertical-align: top;\n",
              "    }\n",
              "\n",
              "    .dataframe thead th {\n",
              "        text-align: right;\n",
              "    }\n",
              "</style>\n",
              "<table border=\"1\" class=\"dataframe\">\n",
              "  <thead>\n",
              "    <tr style=\"text-align: right;\">\n",
              "      <th></th>\n",
              "      <th>reviewID</th>\n",
              "      <th>reviewerID</th>\n",
              "      <th>reviewContent</th>\n",
              "      <th>rating</th>\n",
              "      <th>usefulCount</th>\n",
              "      <th>date</th>\n",
              "      <th>reviewerID.1</th>\n",
              "      <th>firstCount</th>\n",
              "      <th>reviewCount</th>\n",
              "      <th>cleanContent</th>\n",
              "    </tr>\n",
              "  </thead>\n",
              "  <tbody>\n",
              "    <tr>\n",
              "      <th>0</th>\n",
              "      <td>0gvJ0LlByoUsFi6x4eEQ</td>\n",
              "      <td>biZ0fIcZp7B-KBJ3EGcX7Q</td>\n",
              "      <td>I still love this place but the took Mu Shu of...</td>\n",
              "      <td>5</td>\n",
              "      <td>2</td>\n",
              "      <td>Update - 5/12/2009</td>\n",
              "      <td>biZ0fIcZp7B-KBJ3EGcX7Q</td>\n",
              "      <td>268</td>\n",
              "      <td>543</td>\n",
              "      <td>still love place took menu deeply saddened sho...</td>\n",
              "    </tr>\n",
              "    <tr>\n",
              "      <th>1</th>\n",
              "      <td>#NAME?</td>\n",
              "      <td>7dwh3pL2tbSeSvL0qLzUrw</td>\n",
              "      <td>The highlight is the unique menu. The assorted...</td>\n",
              "      <td>4</td>\n",
              "      <td>1</td>\n",
              "      <td>6/17/2011</td>\n",
              "      <td>7dwh3pL2tbSeSvL0qLzUrw</td>\n",
              "      <td>24</td>\n",
              "      <td>461</td>\n",
              "      <td>highlight unique menu assorted pancakes waffle...</td>\n",
              "    </tr>\n",
              "  </tbody>\n",
              "</table>\n",
              "</div>"
            ],
            "text/plain": [
              "               reviewID  ...                                       cleanContent\n",
              "0  0gvJ0LlByoUsFi6x4eEQ  ...  still love place took menu deeply saddened sho...\n",
              "1                #NAME?  ...  highlight unique menu assorted pancakes waffle...\n",
              "\n",
              "[2 rows x 10 columns]"
            ]
          },
          "metadata": {
            "tags": []
          },
          "execution_count": 19
        }
      ]
    },
    {
      "cell_type": "markdown",
      "metadata": {
        "id": "bm2V6_leF-Zf"
      },
      "source": [
        "**TF-IDF**"
      ]
    },
    {
      "cell_type": "code",
      "metadata": {
        "id": "5oH9ltr7z85v"
      },
      "source": [
        "from sklearn.feature_extraction.text import TfidfVectorizer\r\n",
        "tfidfconverter = TfidfVectorizer(max_features=1000,stop_words=stopwords.words('english'))\r\n",
        "tfidf_matrix = tfidfconverter.fit_transform(df[\"cleanContent\"])\r\n",
        "#print(tfidf_matrix.toarray())"
      ],
      "execution_count": null,
      "outputs": []
    },
    {
      "cell_type": "markdown",
      "metadata": {
        "id": "xKoLUidtGKSp"
      },
      "source": [
        "**calculateing cosine similarity**"
      ]
    },
    {
      "cell_type": "code",
      "metadata": {
        "id": "vt3xUfS910B9"
      },
      "source": [
        "from sklearn.metrics.pairwise import cosine_similarity\r\n",
        "cosineSim=[]\r\n",
        "for i in range(len(tfidf_matrix.toarray())):\r\n",
        "  sim=(cosine_similarity(tfidf_matrix[i], tfidf_matrix)).mean()\r\n",
        "  cosineSim.append(sim)"
      ],
      "execution_count": null,
      "outputs": []
    },
    {
      "cell_type": "code",
      "metadata": {
        "colab": {
          "base_uri": "https://localhost:8080/",
          "height": 261
        },
        "id": "wPoZoLg-116s",
        "outputId": "b48a6c95-d79f-465f-bd74-b758ae203661"
      },
      "source": [
        "list_of_rows = [list(row) for row in df.values]\r\n",
        "#print(len(cosineSim))\r\n",
        "links_count(df,\"reviewContent\",\"linksCount\")\r\n",
        "hashtags_count(df, \"reviewContent\", \"hashtagsCount\")\r\n",
        "user_mentions_count(df, \"reviewContent\", \"userMentionsCount\")\r\n",
        "numerics_count(df,\"reviewContent\",\"numericsCount\")\r\n",
        "clean(df, \"reviewContent\", \"cleanContent\")\r\n",
        "\r\n",
        "word_count(df, \"reviewContent\", \"wCount\")\r\n",
        "word_count(df, \"cleanContent\", \"wordCount\")\r\n"
      ],
      "execution_count": null,
      "outputs": [
        {
          "output_type": "execute_result",
          "data": {
            "text/html": [
              "<div>\n",
              "<style scoped>\n",
              "    .dataframe tbody tr th:only-of-type {\n",
              "        vertical-align: middle;\n",
              "    }\n",
              "\n",
              "    .dataframe tbody tr th {\n",
              "        vertical-align: top;\n",
              "    }\n",
              "\n",
              "    .dataframe thead th {\n",
              "        text-align: right;\n",
              "    }\n",
              "</style>\n",
              "<table border=\"1\" class=\"dataframe\">\n",
              "  <thead>\n",
              "    <tr style=\"text-align: right;\">\n",
              "      <th></th>\n",
              "      <th>reviewID</th>\n",
              "      <th>reviewerID</th>\n",
              "      <th>reviewContent</th>\n",
              "      <th>rating</th>\n",
              "      <th>usefulCount</th>\n",
              "      <th>date</th>\n",
              "      <th>reviewerID.1</th>\n",
              "      <th>firstCount</th>\n",
              "      <th>reviewCount</th>\n",
              "      <th>cleanContent</th>\n",
              "      <th>linksCount</th>\n",
              "      <th>hashtagsCount</th>\n",
              "      <th>userMentionsCount</th>\n",
              "      <th>numericsCount</th>\n",
              "      <th>wCount</th>\n",
              "      <th>wordCount</th>\n",
              "    </tr>\n",
              "  </thead>\n",
              "  <tbody>\n",
              "    <tr>\n",
              "      <th>0</th>\n",
              "      <td>0gvJ0LlByoUsFi6x4eEQ</td>\n",
              "      <td>biZ0fIcZp7B-KBJ3EGcX7Q</td>\n",
              "      <td>I still love this place but the took Mu Shu of...</td>\n",
              "      <td>5</td>\n",
              "      <td>2</td>\n",
              "      <td>Update - 5/12/2009</td>\n",
              "      <td>biZ0fIcZp7B-KBJ3EGcX7Q</td>\n",
              "      <td>268</td>\n",
              "      <td>543</td>\n",
              "      <td>still love place took menu deeply saddened sho...</td>\n",
              "      <td>0</td>\n",
              "      <td>0</td>\n",
              "      <td>0</td>\n",
              "      <td>0</td>\n",
              "      <td>21</td>\n",
              "      <td>10</td>\n",
              "    </tr>\n",
              "    <tr>\n",
              "      <th>1</th>\n",
              "      <td>#NAME?</td>\n",
              "      <td>7dwh3pL2tbSeSvL0qLzUrw</td>\n",
              "      <td>The highlight is the unique menu. The assorted...</td>\n",
              "      <td>4</td>\n",
              "      <td>1</td>\n",
              "      <td>6/17/2011</td>\n",
              "      <td>7dwh3pL2tbSeSvL0qLzUrw</td>\n",
              "      <td>24</td>\n",
              "      <td>461</td>\n",
              "      <td>highlight unique menu assorted pancakes waffle...</td>\n",
              "      <td>0</td>\n",
              "      <td>0</td>\n",
              "      <td>0</td>\n",
              "      <td>0</td>\n",
              "      <td>60</td>\n",
              "      <td>28</td>\n",
              "    </tr>\n",
              "  </tbody>\n",
              "</table>\n",
              "</div>"
            ],
            "text/plain": [
              "               reviewID              reviewerID  ... wCount  wordCount\n",
              "0  0gvJ0LlByoUsFi6x4eEQ  biZ0fIcZp7B-KBJ3EGcX7Q  ...     21         10\n",
              "1                #NAME?  7dwh3pL2tbSeSvL0qLzUrw  ...     60         28\n",
              "\n",
              "[2 rows x 16 columns]"
            ]
          },
          "metadata": {
            "tags": []
          },
          "execution_count": 33
        }
      ]
    },
    {
      "cell_type": "code",
      "metadata": {
        "colab": {
          "base_uri": "https://localhost:8080/",
          "height": 106
        },
        "id": "I_vkV87Q19sv",
        "outputId": "ca89e079-ac67-4a5f-bdae-48dfaa45649f"
      },
      "source": [
        "dateList=[]\r\n",
        "for word in list_of_rows:\r\n",
        "    if \"Update\" in str(word[5]):\r\n",
        "        dateList.append(1)\r\n",
        "    else:\r\n",
        "        dateList.append(0)\r\n",
        "\r\n",
        "extremeRating=[]\r\n",
        "for rating in list(df[\"rating\"]):\r\n",
        "    if rating == 5 or rating == 1:\r\n",
        "        extremeRating.append(1)\r\n",
        "    else:\r\n",
        "        extremeRating.append(0)\r\n",
        "\r\n",
        "\r\n",
        "\r\n",
        "\r\n",
        "dict = {'UpdateOrNot': dateList,\r\n",
        "       'NumberOfURLs': list(df[\"linksCount\"]),\r\n",
        "       'NumberOfnumerics': list(df[\"numericsCount\"]),\r\n",
        "      #'hashtagsCount': list(df[\"hashtagsCount\"]),\r\n",
        "      #'userMentionsCount': list(df[\"userMentionsCount\"]),\r\n",
        "       'extremeRating':extremeRating,\r\n",
        "       'firstCount':list(df[\"firstCount\"]),\r\n",
        "       'wordCount':list(df['wCount']),\r\n",
        "       'reviewCount':list(df['reviewCount']),\r\n",
        "       'usefulCount':list(df['usefulCount']),\r\n",
        "        'cosineSimilarty':cosineSim,\r\n",
        "       #'Filtered':list(df[\"Filtered\"])\r\n",
        "        }\r\n",
        "\r\n",
        "\r\n",
        "df1 = pd.DataFrame(dict)\r\n",
        "#df1.to_csv('Data.csv',index=False)\r\n",
        "df1.head()\r\n"
      ],
      "execution_count": null,
      "outputs": [
        {
          "output_type": "execute_result",
          "data": {
            "text/html": [
              "<div>\n",
              "<style scoped>\n",
              "    .dataframe tbody tr th:only-of-type {\n",
              "        vertical-align: middle;\n",
              "    }\n",
              "\n",
              "    .dataframe tbody tr th {\n",
              "        vertical-align: top;\n",
              "    }\n",
              "\n",
              "    .dataframe thead th {\n",
              "        text-align: right;\n",
              "    }\n",
              "</style>\n",
              "<table border=\"1\" class=\"dataframe\">\n",
              "  <thead>\n",
              "    <tr style=\"text-align: right;\">\n",
              "      <th></th>\n",
              "      <th>UpdateOrNot</th>\n",
              "      <th>NumberOfURLs</th>\n",
              "      <th>NumberOfnumerics</th>\n",
              "      <th>extremeRating</th>\n",
              "      <th>firstCount</th>\n",
              "      <th>wordCount</th>\n",
              "      <th>reviewCount</th>\n",
              "      <th>usefulCount</th>\n",
              "      <th>cosineSimilarty</th>\n",
              "    </tr>\n",
              "  </thead>\n",
              "  <tbody>\n",
              "    <tr>\n",
              "      <th>0</th>\n",
              "      <td>1</td>\n",
              "      <td>0</td>\n",
              "      <td>0</td>\n",
              "      <td>1</td>\n",
              "      <td>268</td>\n",
              "      <td>21</td>\n",
              "      <td>543</td>\n",
              "      <td>2</td>\n",
              "      <td>0.514626</td>\n",
              "    </tr>\n",
              "    <tr>\n",
              "      <th>1</th>\n",
              "      <td>0</td>\n",
              "      <td>0</td>\n",
              "      <td>0</td>\n",
              "      <td>0</td>\n",
              "      <td>24</td>\n",
              "      <td>60</td>\n",
              "      <td>461</td>\n",
              "      <td>1</td>\n",
              "      <td>0.514626</td>\n",
              "    </tr>\n",
              "  </tbody>\n",
              "</table>\n",
              "</div>"
            ],
            "text/plain": [
              "   UpdateOrNot  NumberOfURLs  ...  usefulCount  cosineSimilarty\n",
              "0            1             0  ...            2         0.514626\n",
              "1            0             0  ...            1         0.514626\n",
              "\n",
              "[2 rows x 9 columns]"
            ]
          },
          "metadata": {
            "tags": []
          },
          "execution_count": 38
        }
      ]
    },
    {
      "cell_type": "code",
      "metadata": {
        "id": "reTTlSKD2mR4"
      },
      "source": [
        "list_of_featurse = [list(row) for row in df1.values]\r\n"
      ],
      "execution_count": 52,
      "outputs": []
    },
    {
      "cell_type": "code",
      "metadata": {
        "colab": {
          "base_uri": "https://localhost:8080/"
        },
        "id": "mVblInj53PRw",
        "outputId": "2720b123-e40e-42b3-fdbf-a9432f949ff1"
      },
      "source": [
        "result=mp.predict(list_of_featurse)\r\n",
        "for i in range(len(result)):\r\n",
        "  if result[i]==0:\r\n",
        "    print(result[i],\"non spam\")\r\n",
        "  else:\r\n",
        "    print(result[i],\"spam\")"
      ],
      "execution_count": 55,
      "outputs": [
        {
          "output_type": "stream",
          "text": [
            "0 non spam\n",
            "1 spam\n"
          ],
          "name": "stdout"
        }
      ]
    }
  ]
}